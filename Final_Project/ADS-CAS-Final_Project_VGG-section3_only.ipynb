{
 "cells": [
  {
   "cell_type": "markdown",
   "id": "db8cd399",
   "metadata": {},
   "source": [
    "### This is only an insertation to the overall notebook for further details regarding the VGG16 model "
   ]
  },
  {
   "cell_type": "code",
   "execution_count": 4,
   "id": "722de5b3",
   "metadata": {},
   "outputs": [],
   "source": [
    "# Import the necessary libraries\n",
    "\n",
    "import os\n",
    "import numpy as np\n",
    "import matplotlib.pyplot as plt\n",
    "import tensorflow as tf\n",
    "import shutil\n",
    "from PIL import Image\n",
    "\n",
    "#import cv2 # OpenCV needs to be installed as a package in Anaconda\n",
    "\n",
    "from tensorflow.keras.applications import VGG16 #tensorflow needs to be installed as a package in Anaconda\n",
    "from tensorflow.keras.models import Sequential\n",
    "from tensorflow.keras.layers import Dense, Flatten, Dropout\n",
    "from tensorflow.keras.optimizers import Adam\n",
    "from tensorflow.keras.preprocessing.image import ImageDataGenerator"
   ]
  },
  {
   "cell_type": "code",
   "execution_count": 3,
   "id": "60a41817",
   "metadata": {},
   "outputs": [],
   "source": [
    "# Create labelled folders --> RUN ONLY ONCE (Reminder)\n",
    "\n",
    "classes = {'0': 'letter', '1': 'form', '2': 'email', '3': 'handwritten', '4': 'advertisement', \n",
    "           '5': 'scientific report', '6': 'scientific publication', '7': 'specification', \n",
    "          '8': 'file folder', '9': 'news article', '10': 'budget', '11': 'invoice', \n",
    "          '12': 'presentation', '13': 'questionnaire', '14': 'resume', '15': 'memo'}"
   ]
  },
  {
   "cell_type": "code",
   "execution_count": 3,
   "id": "bd500f91",
   "metadata": {},
   "outputs": [],
   "source": [
    "img_path_train = '/Users/nicoga/Downloads/rvl-cdip/SortedData/Training/'\n",
    "img_path_val = '/Users/nicoga/Downloads/rvl-cdip/SortedData/Validation/'\n",
    "img_path_test = '/Users/nicoga/Downloads/rvl-cdip/SortedData/Testing/'\n",
    "img_path_real = '/Users/nicoga/Downloads/rvl-cdip/SortedData/real_data/'\n",
    "img_label = ['0','1','2','3','4', '5','6','7','8','9','10','11','12','13','14','15']\n",
    "img_labelname = ['letter','form','email','handwritten','advertisement', 'scientific report','scientific publication','specification','file folder','news article','budget','invoice','presentation','questionnaire','resume','memo']"
   ]
  },
  {
   "cell_type": "markdown",
   "id": "c960f4db",
   "metadata": {},
   "source": [
    "# 3. Machine Learning Analysis - Model Training - Insertation VGG-16\n",
    "\n",
    "## 3.1. Model training with VGG-16\n",
    "\n",
    "By using the VGG-16 model, we are also benefiting from an increased accuracy due to \"transfer learning\" as this model has been pre-trained on more than 14 milliond images from 22000 different categories (ImageNet dataset). Thus our model does not need to start from scratch but can benefit from this \"experience\". (Info from: https://www.learndatasci.com/tutorials/hands-on-transfer-learning-keras/)\n",
    "\n",
    "With Imagenet pretraining, we can theoretically expect an accuracy of approx. 90 percent. \n",
    "(https://paperswithcode.com/paper/cutting-the-error-by-half-investigation-of/review/?hl=2211)\n",
    "\n",
    "Below the VGG16 model with the additional layers tailored to our 16 classes classification problem: "
   ]
  },
  {
   "cell_type": "markdown",
   "id": "a9cc23d6",
   "metadata": {},
   "source": [
    "Applying on whole images"
   ]
  },
  {
   "cell_type": "code",
   "execution_count": 44,
   "id": "452fe853",
   "metadata": {
    "scrolled": true
   },
   "outputs": [
    {
     "name": "stdout",
     "output_type": "stream",
     "text": [
      "Found 319837 images belonging to 16 classes.\n",
      "Found 39995 images belonging to 16 classes.\n",
      "Found 39995 images belonging to 16 classes.\n",
      "Found 167 images belonging to 16 classes.\n"
     ]
    }
   ],
   "source": [
    "from tensorflow.keras.applications import VGG16\n",
    "from tensorflow.keras.models import Sequential\n",
    "from tensorflow.keras.layers import Dense, Flatten, Dropout\n",
    "from tensorflow.keras.optimizers import Adam\n",
    "from tensorflow.keras.preprocessing.image import ImageDataGenerator\n",
    "import tensorflow as tf\n",
    "\n",
    "train_dir = '/Users/nicoga/Downloads/rvl-cdip/SortedData/Training/'\n",
    "val_dir = '/Users/nicoga/Downloads/rvl-cdip/SortedData/Validation/'\n",
    "test_dir = '/Users/nicoga/Downloads/rvl-cdip/SortedData/Validation/'\n",
    "real_dir= '/Users/nicoga/Downloads/rvl-cdip/SortedData/real_data/'\n",
    "\n",
    "# Load the pre-trained VGG-16 model (excluding the top FC layers)\n",
    "base_model = VGG16(weights='imagenet', include_top=False, input_shape=(224, 224, 3))\n",
    "\n",
    "#Image rescaling: \n",
    "train_datagen = ImageDataGenerator(rescale=1/255.0)\n",
    "test_datagen = ImageDataGenerator(rescale=1/255.0)\n",
    "val_datagen = ImageDataGenerator(rescale=1/255.0)\n",
    "\n",
    "# Load the training and validation data\n",
    "train_data = train_datagen.flow_from_directory(train_dir,\n",
    "                                                    target_size=(224, 224),\n",
    "                                                    batch_size=32, class_mode='categorical', shuffle = False)\n",
    "for X_train, Y_train in train_data:\n",
    "    break\n",
    "\n",
    "val_data = val_datagen.flow_from_directory(val_dir,\n",
    "                                                target_size=(224, 224),\n",
    "                                                batch_size=32,  class_mode='categorical', shuffle = False)\n",
    "for X_val, Y_val in val_data:\n",
    "    break\n",
    "\n",
    "test_data = val_datagen.flow_from_directory(test_dir,\n",
    "                                                target_size=(224, 224),\n",
    "                                                batch_size=32,  class_mode='categorical', shuffle = False)\n",
    "for X_test, Y_test in test_data:\n",
    "    break\n",
    "\n",
    "real_data = val_datagen.flow_from_directory(real_dir,\n",
    "                                                target_size=(224, 224),\n",
    "                                                batch_size=32,  class_mode='categorical', shuffle = False)\n",
    "for X_real, Y_real in real_data:\n",
    "    break\n",
    "\n"
   ]
  },
  {
   "cell_type": "code",
   "execution_count": 2,
   "id": "6cc93055",
   "metadata": {
    "scrolled": true
   },
   "outputs": [
    {
     "name": "stdout",
     "output_type": "stream",
     "text": [
      "Model: \"sequential\"\n",
      "_________________________________________________________________\n",
      " Layer (type)                Output Shape              Param #   \n",
      "=================================================================\n",
      " vgg16 (Functional)          (None, 7, 7, 512)         14714688  \n",
      "                                                                 \n",
      " flatten (Flatten)           (None, 25088)             0         \n",
      "                                                                 \n",
      " flatten_1 (Flatten)         (None, 25088)             0         \n",
      "                                                                 \n",
      " dense (Dense)               (None, 256)               6422784   \n",
      "                                                                 \n",
      " dropout (Dropout)           (None, 256)               0         \n",
      "                                                                 \n",
      " dense_1 (Dense)             (None, 16)                4112      \n",
      "                                                                 \n",
      "=================================================================\n",
      "Total params: 21,141,584\n",
      "Trainable params: 21,141,584\n",
      "Non-trainable params: 0\n",
      "_________________________________________________________________\n"
     ]
    }
   ],
   "source": [
    "from keras.optimizers import SGD\n",
    "#import tensorflow as tf\n",
    "#WORKING MODEL (needed to add the flattening to make it work! (Reminder to myself))\n",
    "\n",
    "basel_model = VGG16(weights='imagenet', include_top=False, input_shape=(224, 224, 3))\n",
    "\n",
    "for layer in base_model.layers:\n",
    "    layer.trainable = True \n",
    "\n",
    "final_model = Sequential()\n",
    "final_model.add(base_model)\n",
    "final_model.add(Flatten(input_shape=(224,224,3))) #this line\n",
    "final_model.add(Flatten())\n",
    "final_model.add(Dense(256, activation = 'relu'))\n",
    "final_model.add(Dropout(0.5))\n",
    "final_model.add(Dense(16, activation = 'sigmoid'))\n",
    "\n",
    "#base_model.summary()\n",
    "final_model.summary()"
   ]
  },
  {
   "cell_type": "code",
   "execution_count": 17,
   "id": "44c1814d",
   "metadata": {},
   "outputs": [
    {
     "name": "stdout",
     "output_type": "stream",
     "text": [
      "Epoch 1/25\n"
     ]
    },
    {
     "name": "stderr",
     "output_type": "stream",
     "text": [
      "2023-07-28 20:16:12.336548: I tensorflow/core/common_runtime/executor.cc:1197] [/device:CPU:0] (DEBUG INFO) Executor start aborting (this does not indicate an error and you can ignore this message): INVALID_ARGUMENT: You must feed a value for placeholder tensor 'Placeholder/_0' with dtype int32\n",
      "\t [[{{node Placeholder/_0}}]]\n"
     ]
    },
    {
     "name": "stdout",
     "output_type": "stream",
     "text": [
      "50/50 [==============================] - ETA: 0s - loss: 2.7263 - accuracy: 0.1225 "
     ]
    },
    {
     "name": "stderr",
     "output_type": "stream",
     "text": [
      "2023-07-28 20:24:43.836252: I tensorflow/core/common_runtime/executor.cc:1197] [/device:CPU:0] (DEBUG INFO) Executor start aborting (this does not indicate an error and you can ignore this message): INVALID_ARGUMENT: You must feed a value for placeholder tensor 'Placeholder/_0' with dtype int32\n",
      "\t [[{{node Placeholder/_0}}]]\n"
     ]
    },
    {
     "name": "stdout",
     "output_type": "stream",
     "text": [
      "50/50 [==============================] - 4553s 93s/step - loss: 2.7263 - accuracy: 0.1225 - val_loss: 2.5289 - val_accuracy: 0.2520\n",
      "Epoch 2/25\n",
      "50/50 [==============================] - 4880s 99s/step - loss: 2.5085 - accuracy: 0.2181 - val_loss: 2.1657 - val_accuracy: 0.3618\n",
      "Epoch 3/25\n",
      "50/50 [==============================] - 12663s 258s/step - loss: 2.2362 - accuracy: 0.3131 - val_loss: 1.9461 - val_accuracy: 0.4063\n",
      "Epoch 4/25\n",
      "50/50 [==============================] - 8274s 169s/step - loss: 2.0528 - accuracy: 0.3688 - val_loss: 1.7414 - val_accuracy: 0.4598\n",
      "Epoch 5/25\n",
      "50/50 [==============================] - 6293s 128s/step - loss: 1.9640 - accuracy: 0.3913 - val_loss: 1.6405 - val_accuracy: 0.5056\n",
      "Epoch 6/25\n",
      "50/50 [==============================] - 5441s 111s/step - loss: 1.8745 - accuracy: 0.4212 - val_loss: 1.6007 - val_accuracy: 0.5194\n",
      "Epoch 7/25\n",
      "50/50 [==============================] - 5426s 110s/step - loss: 1.8102 - accuracy: 0.4375 - val_loss: 1.6344 - val_accuracy: 0.5071\n",
      "Epoch 8/25\n",
      "50/50 [==============================] - 6959s 142s/step - loss: 1.6880 - accuracy: 0.4762 - val_loss: 1.5236 - val_accuracy: 0.5401\n",
      "Epoch 9/25\n",
      "50/50 [==============================] - 6296s 128s/step - loss: 1.7352 - accuracy: 0.4638 - val_loss: 1.4369 - val_accuracy: 0.5711\n",
      "Epoch 10/25\n",
      "50/50 [==============================] - 18658s 381s/step - loss: 1.6218 - accuracy: 0.5113 - val_loss: 1.3701 - val_accuracy: 0.5983\n",
      "Epoch 11/25\n",
      "50/50 [==============================] - 18303s 373s/step - loss: 1.6451 - accuracy: 0.5088 - val_loss: 1.3601 - val_accuracy: 0.6067\n",
      "Epoch 12/25\n",
      "50/50 [==============================] - 15929s 325s/step - loss: 1.5875 - accuracy: 0.5075 - val_loss: 1.3424 - val_accuracy: 0.6059\n",
      "Epoch 13/25\n",
      "50/50 [==============================] - 7666s 156s/step - loss: 1.5101 - accuracy: 0.5569 - val_loss: 1.3014 - val_accuracy: 0.6100\n",
      "Epoch 14/25\n",
      "50/50 [==============================] - 20672s 422s/step - loss: 1.5463 - accuracy: 0.5412 - val_loss: 1.3039 - val_accuracy: 0.6110\n",
      "Epoch 15/25\n",
      "50/50 [==============================] - 7254s 148s/step - loss: 1.4767 - accuracy: 0.5494 - val_loss: 1.2568 - val_accuracy: 0.6197\n",
      "Epoch 16/25\n",
      "50/50 [==============================] - 33609s 686s/step - loss: 1.4464 - accuracy: 0.5587 - val_loss: 1.2355 - val_accuracy: 0.6322\n",
      "Epoch 17/25\n",
      "50/50 [==============================] - 5768s 117s/step - loss: 1.3848 - accuracy: 0.5669 - val_loss: 1.2398 - val_accuracy: 0.6296\n",
      "Epoch 18/25\n",
      "50/50 [==============================] - 9809s 200s/step - loss: 1.4169 - accuracy: 0.5650 - val_loss: 1.2271 - val_accuracy: 0.6461\n",
      "Epoch 19/25\n",
      "50/50 [==============================] - 13908s 284s/step - loss: 1.3778 - accuracy: 0.5863 - val_loss: 1.1861 - val_accuracy: 0.6423\n",
      "Epoch 20/25\n",
      "50/50 [==============================] - 7959s 162s/step - loss: 1.4451 - accuracy: 0.5688 - val_loss: 1.2034 - val_accuracy: 0.6473\n",
      "Epoch 21/25\n",
      "50/50 [==============================] - 5094s 104s/step - loss: 1.3193 - accuracy: 0.5881 - val_loss: 1.1675 - val_accuracy: 0.6483\n",
      "Epoch 22/25\n",
      "50/50 [==============================] - 5305s 108s/step - loss: 1.3124 - accuracy: 0.6075 - val_loss: 1.1586 - val_accuracy: 0.6457\n",
      "Epoch 23/25\n",
      "50/50 [==============================] - 5369s 109s/step - loss: 1.3419 - accuracy: 0.5919 - val_loss: 1.1233 - val_accuracy: 0.6712\n",
      "Epoch 24/25\n",
      "50/50 [==============================] - 5668s 115s/step - loss: 1.3210 - accuracy: 0.5925 - val_loss: 1.1094 - val_accuracy: 0.6749\n",
      "Epoch 25/25\n",
      "50/50 [==============================] - 5314s 108s/step - loss: 1.2957 - accuracy: 0.6175 - val_loss: 1.0802 - val_accuracy: 0.6755\n"
     ]
    },
    {
     "ename": "ModuleNotFoundError",
     "evalue": "No module named 'joblib'",
     "output_type": "error",
     "traceback": [
      "\u001b[0;31m---------------------------------------------------------------------------\u001b[0m",
      "\u001b[0;31mModuleNotFoundError\u001b[0m                       Traceback (most recent call last)",
      "Cell \u001b[0;32mIn[17], line 26\u001b[0m\n\u001b[1;32m      8\u001b[0m hist\u001b[38;5;241m=\u001b[39mfinal_model\u001b[38;5;241m.\u001b[39mfit(\n\u001b[1;32m      9\u001b[0m     train_data, \n\u001b[1;32m     10\u001b[0m     validation_data\u001b[38;5;241m=\u001b[39m(test_data), \n\u001b[0;32m   (...)\u001b[0m\n\u001b[1;32m     14\u001b[0m     verbose \u001b[38;5;241m=\u001b[39m \u001b[38;5;241m1\u001b[39m,\n\u001b[1;32m     15\u001b[0m ) \u001b[38;5;66;03m#callbacks [mcp_save,tbCallBack])\u001b[39;00m\n\u001b[1;32m     17\u001b[0m         \u001b[38;5;66;03m#train_data,\u001b[39;00m\n\u001b[1;32m     18\u001b[0m         \n\u001b[1;32m     19\u001b[0m         \u001b[38;5;66;03m#epochs = 100,\u001b[39;00m\n\u001b[0;32m   (...)\u001b[0m\n\u001b[1;32m     23\u001b[0m         \u001b[38;5;66;03m#)\u001b[39;00m\n\u001b[1;32m     24\u001b[0m \u001b[38;5;66;03m# model.save('/Users/nicoga/Downloads/rvl-cdip/ModelTOP/')\u001b[39;00m\n\u001b[0;32m---> 26\u001b[0m \u001b[38;5;28;01mimport\u001b[39;00m \u001b[38;5;21;01mjoblib\u001b[39;00m\n\u001b[1;32m     28\u001b[0m \u001b[38;5;66;03m#save the model\u001b[39;00m\n\u001b[1;32m     30\u001b[0m filename \u001b[38;5;241m=\u001b[39m \u001b[38;5;124m'\u001b[39m\u001b[38;5;124mVGG16-v1.sav\u001b[39m\u001b[38;5;124m'\u001b[39m\n",
      "\u001b[0;31mModuleNotFoundError\u001b[0m: No module named 'joblib'"
     ]
    }
   ],
   "source": [
    "#model.compile(loss = 'binary_crossentropy',\n",
    "            #optimizer = 'Adam',\n",
    "            #metrics = [tf.keras.metrics.Precision(), tf.keras.metrics.Recall()])\n",
    "\n",
    "final_model.compile(optimizer =SGD(lr = 0.001), loss = 'categorical_crossentropy', metrics = ['accuracy'] )\n",
    "        #SGD(lr = 0.001) vs 'Adam'\n",
    "        \n",
    "hist=final_model.fit(\n",
    "    train_data, \n",
    "    validation_data=(test_data), \n",
    "    steps_per_epoch = 50, \n",
    "    batch_size = 64, \n",
    "    epochs = 25, \n",
    "    verbose = 1,\n",
    ") #callbacks [mcp_save,tbCallBack])\n",
    "        \n",
    "        #train_data,\n",
    "        \n",
    "        #epochs = 100,\n",
    "        #validation_data = val_data,\n",
    "        #verbose = 1,\n",
    "        #validation_steps = 32\n",
    "        #)\n",
    "# model.save('/Users/nicoga/Downloads/rvl-cdip/ModelTOP/')\n",
    "\n",
    "import joblib\n",
    "\n",
    "#save the model\n",
    "\n",
    "filename = 'VGG16-v1.sav'\n",
    "joblib.dump(model4, filename)\n",
    "\n",
    "# Load the model from disk\n",
    "\n",
    "# loaded_model = joblib.load(filename)\n",
    "# result = loaded_model.score(X_test, Y_test)\n",
    "# print(result)"
   ]
  },
  {
   "cell_type": "code",
   "execution_count": 29,
   "id": "76c0adae",
   "metadata": {},
   "outputs": [
    {
     "data": {
      "text/plain": [
       "()"
      ]
     },
     "execution_count": 29,
     "metadata": {},
     "output_type": "execute_result"
    },
    {
     "data": {
      "image/png": "[encoded data removed]",
      "text/plain": [
       "<Figure size 1000x500 with 2 Axes>"
      ]
     },
     "metadata": {},
     "output_type": "display_data"
    }
   ],
   "source": [
    "## Accuracy of Training and Test Prediction\n",
    "\n",
    "fig, axs = plt.subplots(1, 2, figsize=(10,5))\n",
    "axs[0].plot(hist.epoch, hist.history['loss'])\n",
    "axs[0].plot(hist.epoch, hist.history['val_loss'])\n",
    "axs[0].legend(('training loss', 'validation loss'), loc='lower right')\n",
    "axs[1].plot(hist.epoch, hist.history['accuracy'])\n",
    "axs[1].plot(hist.epoch, hist.history['val_accuracy'])\n",
    "axs[1].legend(('training accuracy', 'validation accuracy'), loc='lower right')\n",
    "plt.show\n",
    "()"
   ]
  },
  {
   "cell_type": "code",
   "execution_count": 22,
   "id": "4b36efa2",
   "metadata": {},
   "outputs": [
    {
     "data": {
      "text/plain": [
       "['VGG16-v1.sav']"
      ]
     },
     "execution_count": 22,
     "metadata": {},
     "output_type": "execute_result"
    }
   ],
   "source": [
    "import joblib\n",
    "\n",
    "#save the model\n",
    "\n",
    "filename = 'VGG16-v1.sav'\n",
    "joblib.dump(final_model, filename)\n",
    "\n",
    "# Load the model from disk\n",
    "\n",
    "# loaded_model = joblib.load(filename)\n",
    "# result = loaded_model.score(X_test, Y_test)\n",
    "# print(result)"
   ]
  },
  {
   "cell_type": "code",
   "execution_count": 37,
   "id": "4a08a623",
   "metadata": {},
   "outputs": [
    {
     "name": "stderr",
     "output_type": "stream",
     "text": [
      "/var/folders/4x/lv18pm2s7mv7yx7t9ygb9gx80000gn/T/ipykernel_56037/3715802279.py:6: UserWarning: `Model.predict_generator` is deprecated and will be removed in a future version. Please use `Model.predict`, which supports generators.\n",
      "  pred10 = final_model.predict_generator(test_data)\n",
      "2023-08-01 14:58:34.401936: I tensorflow/core/common_runtime/executor.cc:1197] [/device:CPU:0] (DEBUG INFO) Executor start aborting (this does not indicate an error and you can ignore this message): INVALID_ARGUMENT: You must feed a value for placeholder tensor 'Placeholder/_0' with dtype int32\n",
      "\t [[{{node Placeholder/_0}}]]\n"
     ]
    },
    {
     "name": "stdout",
     "output_type": "stream",
     "text": [
      "Validation accuracy: 6.143267908488561 %\n",
      "[[150 169 159 159 167 164 159 162 182 154 159 177 178 160 181 165]\n",
      " [292 293 304 272 310 296 277 295 309 297 275 284 285 327 273 292]\n",
      " [117 119 125 111 136 128  99 134 125 112 119 128 113 127 125 110]\n",
      " [126 123 111 117 111 113 130 129 108 139 124 104 122 106 122 127]\n",
      " [199 202 203 203 176 206 202 208 193 184 216 201 211 205 182 201]\n",
      " [144 148 143 156 147 141 141 161 150 134 149 140 159 163 143 160]\n",
      " [157 146 145 146 140 134 138 145 159 151 148 149 153 143 166 136]\n",
      " [150 148 158 157 159 130 147 136 125 131 169 151 127 138 158 165]\n",
      " [155 162 149 164 153 164 157 140 145 154 166 153 181 149 132 161]\n",
      " [128 165 148 154 142 164 143 147 160 145 144 151 162 146 154 169]\n",
      " [167 174 174 188 174 158 178 197 164 179 187 178 164 150 169 185]\n",
      " [ 94 102  84 114  66 110 108  96 115  90  96 104  81 112  94  84]\n",
      " [137 165 152 149 136 146 126 146 148 148 144 151 158 149 143 148]\n",
      " [114 101 114 138 140 142 141 132 137 107 129 105 131 140 103 103]\n",
      " [162 192 170 197 175 173 150 152 165 167 168 176 165 183 151 169]\n",
      " [138 128 146 151 136 147 128 153 145 142 129 156 134 133 155 151]]\n"
     ]
    }
   ],
   "source": [
    "# CONFUSION MATRIX FOR TEST SET - VGG16\n",
    "\n",
    "from sklearn.metrics import confusion_matrix \n",
    "\n",
    "# Predictions\n",
    "pred10 = final_model.predict_generator(test_data)\n",
    "predicted10 = np.argmax(pred10,axis=1)\n",
    "\n",
    "# Actual Labels\n",
    "labels10 = test_data.classes\n",
    "\n",
    "# Compute Accuracy\n",
    "conf_mat10 = confusion_matrix(predicted10, labels10)\n",
    "cm10 = conf_mat10\n",
    "acc10 = np.sum(conf_mat10.diagonal()) / np.sum(conf_mat10)\n",
    "print('Validation accuracy: {} %'.format(acc10*100))\n",
    "print(conf_mat10) "
   ]
  },
  {
   "cell_type": "code",
   "execution_count": 27,
   "id": "533b93ef",
   "metadata": {},
   "outputs": [
    {
     "name": "stderr",
     "output_type": "stream",
     "text": [
      "/var/folders/4x/lv18pm2s7mv7yx7t9ygb9gx80000gn/T/ipykernel_56037/3649989434.py:4: UserWarning: `Model.predict_generator` is deprecated and will be removed in a future version. Please use `Model.predict`, which supports generators.\n",
      "  pred11 = final_model.predict_generator(real_data)\n",
      "2023-08-01 14:43:53.482859: I tensorflow/core/common_runtime/executor.cc:1197] [/device:CPU:0] (DEBUG INFO) Executor start aborting (this does not indicate an error and you can ignore this message): INVALID_ARGUMENT: You must feed a value for placeholder tensor 'Placeholder/_0' with dtype int32\n",
      "\t [[{{node Placeholder/_0}}]]\n"
     ]
    },
    {
     "name": "stdout",
     "output_type": "stream",
     "text": [
      "Accuracy of real OAG data: 10.179640718562874 %\n",
      "[[4 1 2 0 2 1 2 6 0 0 0 0 0 0]\n",
      " [3 5 2 0 3 2 0 8 0 0 0 0 0 0]\n",
      " [3 0 2 0 2 0 1 2 0 0 0 0 0 0]\n",
      " [3 5 3 0 3 1 2 6 0 0 0 0 0 0]\n",
      " [2 0 4 0 1 1 1 8 0 0 0 0 0 0]\n",
      " [1 1 3 0 2 2 0 7 0 0 0 0 0 0]\n",
      " [2 4 0 0 4 0 2 6 0 0 0 0 0 0]\n",
      " [1 1 0 0 0 1 0 1 0 0 0 0 0 0]\n",
      " [0 3 0 0 1 0 0 5 0 0 0 0 0 0]\n",
      " [2 0 1 0 1 0 1 8 0 0 0 0 0 0]\n",
      " [0 0 0 0 0 0 0 1 0 0 0 0 0 0]\n",
      " [1 0 0 0 0 0 0 2 0 0 0 0 0 0]\n",
      " [0 3 3 0 0 0 1 3 0 0 0 0 0 0]\n",
      " [0 0 1 0 0 0 0 1 0 0 0 0 0 0]]\n"
     ]
    }
   ],
   "source": [
    "## CONFUSION MATRIX FOR REAL DATA SET  - VGG16\n",
    "\n",
    "# Predictions\n",
    "pred11 = final_model.predict_generator(real_data)\n",
    "predicted11 = np.argmax(pred11,axis=1)\n",
    "\n",
    "# Actual Labels\n",
    "labels11 = real_data.classes\n",
    "\n",
    "# Compute Accuracy\n",
    "conf_mat11 = confusion_matrix(predicted11, labels11)\n",
    "cm11 = conf_mat11\n",
    "acc11 = np.sum(conf_mat11.diagonal()) / np.sum(conf_mat11)\n",
    "print('Accuracy of real OAG data: {} %'.format(acc11*100))\n",
    "print(conf_mat11) "
   ]
  }
 ],
 "metadata": {
  "kernelspec": {
   "display_name": "Python 3 (ipykernel)",
   "language": "python",
   "name": "python3"
  },
  "language_info": {
   "codemirror_mode": {
    "name": "ipython",
    "version": 3
   },
   "file_extension": ".py",
   "mimetype": "text/x-python",
   "name": "python",
   "nbconvert_exporter": "python",
   "pygments_lexer": "ipython3",
   "version": "3.11.4"
  }
 },
 "nbformat": 4,
 "nbformat_minor": 5
}
