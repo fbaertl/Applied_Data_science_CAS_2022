{
  "nbformat": 4,
  "nbformat_minor": 0,
  "metadata": {
    "colab": {
      "provenance": [],
      "authorship_tag": "ABX9TyPrfanc9fF8TCZ6R91ZKjGD",
      "include_colab_link": true
    },
    "kernelspec": {
      "name": "python3",
      "display_name": "Python 3"
    },
    "language_info": {
      "name": "python"
    },
    "accelerator": "GPU",
    "gpuClass": "standard"
  },
  "cells": [
    {
      "cell_type": "markdown",
      "metadata": {
        "id": "view-in-github",
        "colab_type": "text"
      },
      "source": [
        "<a href=\"https://colab.research.google.com/github/fbaertl/Applied_Data_science_CAS_2022/blob/main/Module3/CAS_M3_Unsupervised_ML_QC_check_vs_CNN_ipynb.ipynb\" target=\"_parent\"><img src=\"https://colab.research.google.com/assets/colab-badge.svg\" alt=\"Open In Colab\"/></a>"
      ]
    },
    {
      "cell_type": "code",
      "source": [
        "import numpy as np\n",
        "from keras.datasets import cifar10\n",
        "from keras.utils import np_utils\n",
        "from keras.optimizers import SGD, Adam, RMSprop\n",
        "from keras.models import Sequential\n",
        "from keras.layers.convolutional import Conv2D, MaxPooling2D\n",
        "from keras.layers.core import Dense, Flatten, Activation, Dropout\n",
        "import matplotlib.pyplot as plt\n",
        "import tensorflow as tf\n",
        "#% matplotlib inline"
      ],
      "metadata": {
        "id": "Nr6lPu4nIZtl"
      },
      "execution_count": 3,
      "outputs": []
    },
    {
      "cell_type": "code",
      "source": [
        "#load dataset\n",
        "(X_train, y_train), (X_test, y_test) = cifar10.load_data()\n"
      ],
      "metadata": {
        "colab": {
          "base_uri": "https://localhost:8080/"
        },
        "id": "ZNknqXbBIgK2",
        "outputId": "8b1792c2-f183-4515-aaf1-eebf25525cc9"
      },
      "execution_count": 7,
      "outputs": [
        {
          "output_type": "stream",
          "name": "stdout",
          "text": [
            "Downloading data from https://www.cs.toronto.edu/~kriz/cifar-10-python.tar.gz\n",
            "170498071/170498071 [==============================] - 2s 0us/step\n"
          ]
        }
      ]
    },
    {
      "cell_type": "code",
      "source": [
        "BATCH_SIZE = 128\n",
        "nb_epochs = 40\n",
        "VALIDATION_SPLIT = 0.2\n",
        "num_classes = 10"
      ],
      "metadata": {
        "id": "4ZsXAdvmIVs5"
      },
      "execution_count": 6,
      "outputs": []
    },
    {
      "cell_type": "code",
      "source": [
        "num_train, img_channels, img_rows, img_cols = X_train.shape\n",
        "num_test, _, _, _= X_test.shape"
      ],
      "metadata": {
        "id": "0scVT1LrJSHh"
      },
      "execution_count": 8,
      "outputs": []
    },
    {
      "cell_type": "code",
      "source": [
        "y_train = np_utils.to_categorical(y_train, num_classes)\n",
        "y_test = np_utils.to_categorical(y_test, num_classes)"
      ],
      "metadata": {
        "id": "tfuwgR1uJofx"
      },
      "execution_count": 9,
      "outputs": []
    },
    {
      "cell_type": "code",
      "source": [
        "#float and normalization\n",
        "X_train = X_train.astype('float32')\n",
        "X_test = X_test.astype('float32')\n",
        "X_train /= 255\n",
        "X_test /= 255"
      ],
      "metadata": {
        "id": "fpW1mKLyJrOE"
      },
      "execution_count": 10,
      "outputs": []
    },
    {
      "cell_type": "code",
      "execution_count": 11,
      "metadata": {
        "id": "vA2Aol9IHzMh"
      },
      "outputs": [],
      "source": [
        "# Network\n",
        "def create_cnn_model():\n",
        "    model = Sequential()\n",
        "    model.add(Conv2D(32, (3, 3), padding = 'same', input_shape=X_train.shape[1:]))\n",
        "    model.add(Activation('relu'))\n",
        "\n",
        "    # Adding more layers to improve the model\n",
        "    model.add(Conv2D(32, (3, 3), padding = 'same'))\n",
        "    model.add(Activation('relu'))\n",
        "    model.add(MaxPooling2D(pool_size= (2,2)))\n",
        "    model.add(Dropout(0.25))\n",
        "    model.add(Conv2D(64, (3, 3), padding = 'same'))\n",
        "    model.add(Activation('relu'))\n",
        "    model.add(Conv2D(64, (3, 3)))\n",
        "    model.add(Activation('relu'))\n",
        "    model.add(MaxPooling2D(pool_size= (2, 2)))\n",
        "    model.add(Dropout(0.25))\n",
        "    model.add(Flatten())\n",
        "    model.add(Dense(512))\n",
        "    model.add(Activation('relu'))\n",
        "    model.add(Dropout(0.5))\n",
        "    model.add(Dense(num_classes))\n",
        "    model.add(Activation('softmax'))\n",
        "    return model\n",
        "\n",
        "\n",
        "     "
      ]
    },
    {
      "cell_type": "code",
      "source": [
        "model = create_cnn_model()\n",
        "model.summary()"
      ],
      "metadata": {
        "colab": {
          "base_uri": "https://localhost:8080/"
        },
        "id": "hnqe7GQhI2-y",
        "outputId": "531a5c95-0ef2-45b6-ca8c-92fc04bebe12"
      },
      "execution_count": 12,
      "outputs": [
        {
          "output_type": "stream",
          "name": "stdout",
          "text": [
            "Model: \"sequential\"\n",
            "_________________________________________________________________\n",
            " Layer (type)                Output Shape              Param #   \n",
            "=================================================================\n",
            " conv2d (Conv2D)             (None, 32, 32, 32)        896       \n",
            "                                                                 \n",
            " activation (Activation)     (None, 32, 32, 32)        0         \n",
            "                                                                 \n",
            " conv2d_1 (Conv2D)           (None, 32, 32, 32)        9248      \n",
            "                                                                 \n",
            " activation_1 (Activation)   (None, 32, 32, 32)        0         \n",
            "                                                                 \n",
            " max_pooling2d (MaxPooling2D  (None, 16, 16, 32)       0         \n",
            " )                                                               \n",
            "                                                                 \n",
            " dropout (Dropout)           (None, 16, 16, 32)        0         \n",
            "                                                                 \n",
            " conv2d_2 (Conv2D)           (None, 16, 16, 64)        18496     \n",
            "                                                                 \n",
            " activation_2 (Activation)   (None, 16, 16, 64)        0         \n",
            "                                                                 \n",
            " conv2d_3 (Conv2D)           (None, 14, 14, 64)        36928     \n",
            "                                                                 \n",
            " activation_3 (Activation)   (None, 14, 14, 64)        0         \n",
            "                                                                 \n",
            " max_pooling2d_1 (MaxPooling  (None, 7, 7, 64)         0         \n",
            " 2D)                                                             \n",
            "                                                                 \n",
            " dropout_1 (Dropout)         (None, 7, 7, 64)          0         \n",
            "                                                                 \n",
            " flatten (Flatten)           (None, 3136)              0         \n",
            "                                                                 \n",
            " dense (Dense)               (None, 512)               1606144   \n",
            "                                                                 \n",
            " activation_4 (Activation)   (None, 512)               0         \n",
            "                                                                 \n",
            " dropout_2 (Dropout)         (None, 512)               0         \n",
            "                                                                 \n",
            " dense_1 (Dense)             (None, 10)                5130      \n",
            "                                                                 \n",
            " activation_5 (Activation)   (None, 10)                0         \n",
            "                                                                 \n",
            "=================================================================\n",
            "Total params: 1,676,842\n",
            "Trainable params: 1,676,842\n",
            "Non-trainable params: 0\n",
            "_________________________________________________________________\n"
          ]
        }
      ]
    },
    {
      "cell_type": "code",
      "source": [
        "model.compile(loss= 'categorical_crossentropy', optimizer = 'rmsprop', metrics= ['accuracy'])"
      ],
      "metadata": {
        "id": "HyzbxQD_I7Hi"
      },
      "execution_count": 13,
      "outputs": []
    },
    {
      "cell_type": "code",
      "source": [
        "model_history = model.fit(X_train, y_train, batch_size = BATCH_SIZE, epochs = nb_epochs, validation_split = VALIDATION_SPLIT, verbose = 1)"
      ],
      "metadata": {
        "colab": {
          "base_uri": "https://localhost:8080/"
        },
        "id": "0wYPGUGBI99L",
        "outputId": "7931bf9c-afba-483b-c15b-132a1931796f"
      },
      "execution_count": 14,
      "outputs": [
        {
          "output_type": "stream",
          "name": "stdout",
          "text": [
            "Epoch 1/40\n",
            "313/313 [==============================] - 14s 15ms/step - loss: 1.7898 - accuracy: 0.3509 - val_loss: 1.3896 - val_accuracy: 0.4916\n",
            "Epoch 2/40\n",
            "313/313 [==============================] - 4s 13ms/step - loss: 1.3607 - accuracy: 0.5167 - val_loss: 1.1973 - val_accuracy: 0.5757\n",
            "Epoch 3/40\n",
            "313/313 [==============================] - 4s 14ms/step - loss: 1.1494 - accuracy: 0.5907 - val_loss: 0.9757 - val_accuracy: 0.6561\n",
            "Epoch 4/40\n",
            "313/313 [==============================] - 4s 14ms/step - loss: 1.0219 - accuracy: 0.6385 - val_loss: 1.0301 - val_accuracy: 0.6408\n",
            "Epoch 5/40\n",
            "313/313 [==============================] - 5s 17ms/step - loss: 0.9258 - accuracy: 0.6765 - val_loss: 0.8976 - val_accuracy: 0.6833\n",
            "Epoch 6/40\n",
            "313/313 [==============================] - 4s 13ms/step - loss: 0.8534 - accuracy: 0.7008 - val_loss: 0.9127 - val_accuracy: 0.6889\n",
            "Epoch 7/40\n",
            "313/313 [==============================] - 4s 13ms/step - loss: 0.7952 - accuracy: 0.7208 - val_loss: 0.7822 - val_accuracy: 0.7242\n",
            "Epoch 8/40\n",
            "313/313 [==============================] - 4s 13ms/step - loss: 0.7430 - accuracy: 0.7423 - val_loss: 0.7458 - val_accuracy: 0.7423\n",
            "Epoch 9/40\n",
            "313/313 [==============================] - 4s 13ms/step - loss: 0.6986 - accuracy: 0.7560 - val_loss: 0.8128 - val_accuracy: 0.7226\n",
            "Epoch 10/40\n",
            "313/313 [==============================] - 4s 13ms/step - loss: 0.6644 - accuracy: 0.7679 - val_loss: 0.8098 - val_accuracy: 0.7248\n",
            "Epoch 11/40\n",
            "313/313 [==============================] - 4s 14ms/step - loss: 0.6327 - accuracy: 0.7813 - val_loss: 0.6959 - val_accuracy: 0.7647\n",
            "Epoch 12/40\n",
            "313/313 [==============================] - 4s 14ms/step - loss: 0.6048 - accuracy: 0.7897 - val_loss: 0.7284 - val_accuracy: 0.7524\n",
            "Epoch 13/40\n",
            "313/313 [==============================] - 4s 13ms/step - loss: 0.5824 - accuracy: 0.7977 - val_loss: 0.6970 - val_accuracy: 0.7743\n",
            "Epoch 14/40\n",
            "313/313 [==============================] - 4s 13ms/step - loss: 0.5669 - accuracy: 0.8035 - val_loss: 0.7566 - val_accuracy: 0.7574\n",
            "Epoch 15/40\n",
            "313/313 [==============================] - 4s 14ms/step - loss: 0.5485 - accuracy: 0.8123 - val_loss: 0.6731 - val_accuracy: 0.7707\n",
            "Epoch 16/40\n",
            "313/313 [==============================] - 4s 14ms/step - loss: 0.5419 - accuracy: 0.8141 - val_loss: 0.7549 - val_accuracy: 0.7496\n",
            "Epoch 17/40\n",
            "313/313 [==============================] - 4s 14ms/step - loss: 0.5339 - accuracy: 0.8178 - val_loss: 0.7325 - val_accuracy: 0.7761\n",
            "Epoch 18/40\n",
            "313/313 [==============================] - 4s 14ms/step - loss: 0.5298 - accuracy: 0.8220 - val_loss: 0.6610 - val_accuracy: 0.7817\n",
            "Epoch 19/40\n",
            "313/313 [==============================] - 4s 13ms/step - loss: 0.5275 - accuracy: 0.8199 - val_loss: 0.7678 - val_accuracy: 0.7496\n",
            "Epoch 20/40\n",
            "313/313 [==============================] - 4s 13ms/step - loss: 0.5256 - accuracy: 0.8220 - val_loss: 0.8174 - val_accuracy: 0.7723\n",
            "Epoch 21/40\n",
            "313/313 [==============================] - 4s 14ms/step - loss: 0.5247 - accuracy: 0.8250 - val_loss: 0.7530 - val_accuracy: 0.7673\n",
            "Epoch 22/40\n",
            "313/313 [==============================] - 4s 13ms/step - loss: 0.5199 - accuracy: 0.8252 - val_loss: 0.7440 - val_accuracy: 0.7870\n",
            "Epoch 23/40\n",
            "313/313 [==============================] - 4s 13ms/step - loss: 0.5282 - accuracy: 0.8239 - val_loss: 0.7315 - val_accuracy: 0.7634\n",
            "Epoch 24/40\n",
            "313/313 [==============================] - 4s 13ms/step - loss: 0.5246 - accuracy: 0.8248 - val_loss: 0.7970 - val_accuracy: 0.7813\n",
            "Epoch 25/40\n",
            "313/313 [==============================] - 4s 13ms/step - loss: 0.5254 - accuracy: 0.8262 - val_loss: 0.8378 - val_accuracy: 0.7816\n",
            "Epoch 26/40\n",
            "313/313 [==============================] - 4s 13ms/step - loss: 0.5216 - accuracy: 0.8284 - val_loss: 0.6793 - val_accuracy: 0.7811\n",
            "Epoch 27/40\n",
            "313/313 [==============================] - 4s 14ms/step - loss: 0.5300 - accuracy: 0.8263 - val_loss: 0.7439 - val_accuracy: 0.7775\n",
            "Epoch 28/40\n",
            "313/313 [==============================] - 4s 13ms/step - loss: 0.5357 - accuracy: 0.8237 - val_loss: 0.7245 - val_accuracy: 0.7824\n",
            "Epoch 29/40\n",
            "313/313 [==============================] - 4s 14ms/step - loss: 0.5292 - accuracy: 0.8281 - val_loss: 0.9568 - val_accuracy: 0.7841\n",
            "Epoch 30/40\n",
            "313/313 [==============================] - 5s 14ms/step - loss: 0.5371 - accuracy: 0.8261 - val_loss: 0.7010 - val_accuracy: 0.7875\n",
            "Epoch 31/40\n",
            "313/313 [==============================] - 4s 13ms/step - loss: 0.5370 - accuracy: 0.8235 - val_loss: 0.7490 - val_accuracy: 0.7797\n",
            "Epoch 32/40\n",
            "313/313 [==============================] - 4s 14ms/step - loss: 0.5419 - accuracy: 0.8250 - val_loss: 0.8003 - val_accuracy: 0.7464\n",
            "Epoch 33/40\n",
            "313/313 [==============================] - 4s 13ms/step - loss: 0.5325 - accuracy: 0.8286 - val_loss: 0.7933 - val_accuracy: 0.7889\n",
            "Epoch 34/40\n",
            "313/313 [==============================] - 4s 13ms/step - loss: 0.5369 - accuracy: 0.8251 - val_loss: 0.7423 - val_accuracy: 0.7950\n",
            "Epoch 35/40\n",
            "313/313 [==============================] - 4s 14ms/step - loss: 0.5394 - accuracy: 0.8244 - val_loss: 0.6816 - val_accuracy: 0.7844\n",
            "Epoch 36/40\n",
            "313/313 [==============================] - 4s 13ms/step - loss: 0.5393 - accuracy: 0.8268 - val_loss: 0.7332 - val_accuracy: 0.7621\n",
            "Epoch 37/40\n",
            "313/313 [==============================] - 4s 13ms/step - loss: 0.5421 - accuracy: 0.8260 - val_loss: 0.8886 - val_accuracy: 0.7247\n",
            "Epoch 38/40\n",
            "313/313 [==============================] - 4s 13ms/step - loss: 0.5440 - accuracy: 0.8230 - val_loss: 1.1740 - val_accuracy: 0.7695\n",
            "Epoch 39/40\n",
            "313/313 [==============================] - 4s 14ms/step - loss: 0.5438 - accuracy: 0.8251 - val_loss: 0.6993 - val_accuracy: 0.7738\n",
            "Epoch 40/40\n",
            "313/313 [==============================] - 4s 14ms/step - loss: 0.5486 - accuracy: 0.8235 - val_loss: 0.7794 - val_accuracy: 0.7825\n"
          ]
        }
      ]
    },
    {
      "cell_type": "code",
      "source": [
        "#from keras.preprocessing.image import ImageDataGenerator\n",
        "\n",
        "#datagen = ImageDataGenerator(zoom_range = 0.2,\n",
        "                            horizontal_flip = True)\n",
        "#datagen.fit(X_train)"
      ],
      "metadata": {
        "id": "Zp5QYvdIOqtD",
        "colab": {
          "base_uri": "https://localhost:8080/",
          "height": 201
        },
        "outputId": "84891394-20c7-4897-823e-a9d4814beee2"
      },
      "execution_count": 5,
      "outputs": [
        {
          "output_type": "error",
          "ename": "NameError",
          "evalue": "ignored",
          "traceback": [
            "\u001b[0;31m---------------------------------------------------------------------------\u001b[0m",
            "\u001b[0;31mNameError\u001b[0m                                 Traceback (most recent call last)",
            "\u001b[0;32m<ipython-input-5-aa8a83fe358b>\u001b[0m in \u001b[0;36m<module>\u001b[0;34m\u001b[0m\n\u001b[1;32m      3\u001b[0m datagen = ImageDataGenerator(zoom_range = 0.2,\n\u001b[1;32m      4\u001b[0m                             horizontal_flip = True)\n\u001b[0;32m----> 5\u001b[0;31m \u001b[0mdatagen\u001b[0m\u001b[0;34m.\u001b[0m\u001b[0mfit\u001b[0m\u001b[0;34m(\u001b[0m\u001b[0mX_train\u001b[0m\u001b[0;34m)\u001b[0m\u001b[0;34m\u001b[0m\u001b[0;34m\u001b[0m\u001b[0m\n\u001b[0m",
            "\u001b[0;31mNameError\u001b[0m: name 'X_train' is not defined"
          ]
        }
      ]
    },
    {
      "cell_type": "code",
      "source": [
        "#Augmented data\n",
        "model_history = model.fit(X_train, y_train, batch_size = BATCH_SIZE, epochs = nb_epochs, validation_split = VALIDATION_SPLIT, verbose = 1)\n",
        "\n"
      ],
      "metadata": {
        "colab": {
          "base_uri": "https://localhost:8080/"
        },
        "id": "GBva-JvXOyUy",
        "outputId": "feec7553-93b9-42cb-e6be-6b479ec3776a"
      },
      "execution_count": null,
      "outputs": [
        {
          "output_type": "stream",
          "name": "stdout",
          "text": [
            "Epoch 1/40\n",
            "313/313 [==============================] - 4s 13ms/step - loss: 0.5384 - accuracy: 0.8296 - val_loss: 0.6701 - val_accuracy: 0.7845\n",
            "Epoch 2/40\n",
            "313/313 [==============================] - 4s 13ms/step - loss: 0.5432 - accuracy: 0.8250 - val_loss: 0.8232 - val_accuracy: 0.7882\n",
            "Epoch 3/40\n",
            "313/313 [==============================] - 4s 13ms/step - loss: 0.5432 - accuracy: 0.8283 - val_loss: 0.7756 - val_accuracy: 0.7713\n",
            "Epoch 4/40\n",
            "313/313 [==============================] - 4s 14ms/step - loss: 0.5493 - accuracy: 0.8238 - val_loss: 0.7690 - val_accuracy: 0.7805\n",
            "Epoch 5/40\n",
            "313/313 [==============================] - 4s 14ms/step - loss: 0.5582 - accuracy: 0.8221 - val_loss: 0.7924 - val_accuracy: 0.7861\n",
            "Epoch 6/40\n",
            "313/313 [==============================] - 4s 14ms/step - loss: 0.5600 - accuracy: 0.8260 - val_loss: 0.7462 - val_accuracy: 0.7690\n",
            "Epoch 7/40\n",
            "313/313 [==============================] - 4s 13ms/step - loss: 0.5590 - accuracy: 0.8238 - val_loss: 0.8424 - val_accuracy: 0.7826\n",
            "Epoch 8/40\n",
            "313/313 [==============================] - 4s 14ms/step - loss: 0.5618 - accuracy: 0.8243 - val_loss: 1.0362 - val_accuracy: 0.7642\n",
            "Epoch 9/40\n",
            "313/313 [==============================] - 4s 13ms/step - loss: 0.5697 - accuracy: 0.8174 - val_loss: 0.7180 - val_accuracy: 0.7970\n",
            "Epoch 10/40\n",
            "313/313 [==============================] - 4s 13ms/step - loss: 0.5653 - accuracy: 0.8213 - val_loss: 1.0806 - val_accuracy: 0.7217\n",
            "Epoch 11/40\n",
            "313/313 [==============================] - 4s 14ms/step - loss: 0.5549 - accuracy: 0.8249 - val_loss: 0.8056 - val_accuracy: 0.7819\n",
            "Epoch 12/40\n",
            "313/313 [==============================] - 4s 14ms/step - loss: 0.5634 - accuracy: 0.8218 - val_loss: 0.8076 - val_accuracy: 0.7415\n",
            "Epoch 13/40\n",
            "313/313 [==============================] - 4s 14ms/step - loss: 0.5860 - accuracy: 0.8182 - val_loss: 1.2635 - val_accuracy: 0.7260\n",
            "Epoch 14/40\n",
            "313/313 [==============================] - 4s 13ms/step - loss: 0.5751 - accuracy: 0.8194 - val_loss: 0.9823 - val_accuracy: 0.7323\n",
            "Epoch 15/40\n",
            "313/313 [==============================] - 4s 13ms/step - loss: 0.5870 - accuracy: 0.8141 - val_loss: 0.8213 - val_accuracy: 0.7680\n",
            "Epoch 16/40\n",
            "313/313 [==============================] - 4s 13ms/step - loss: 0.5872 - accuracy: 0.8166 - val_loss: 0.8437 - val_accuracy: 0.7741\n",
            "Epoch 17/40\n",
            "313/313 [==============================] - 4s 13ms/step - loss: 0.5980 - accuracy: 0.8122 - val_loss: 0.7654 - val_accuracy: 0.7874\n",
            "Epoch 18/40\n",
            "313/313 [==============================] - 4s 13ms/step - loss: 0.5902 - accuracy: 0.8153 - val_loss: 0.7793 - val_accuracy: 0.7968\n",
            "Epoch 19/40\n",
            "313/313 [==============================] - 4s 14ms/step - loss: 0.6005 - accuracy: 0.8106 - val_loss: 0.9149 - val_accuracy: 0.7847\n",
            "Epoch 20/40\n",
            "313/313 [==============================] - 4s 13ms/step - loss: 0.6024 - accuracy: 0.8122 - val_loss: 0.8246 - val_accuracy: 0.7899\n",
            "Epoch 21/40\n",
            "313/313 [==============================] - 4s 13ms/step - loss: 0.6020 - accuracy: 0.8113 - val_loss: 0.7960 - val_accuracy: 0.7879\n",
            "Epoch 22/40\n",
            "313/313 [==============================] - 4s 14ms/step - loss: 0.6090 - accuracy: 0.8083 - val_loss: 0.7231 - val_accuracy: 0.7808\n",
            "Epoch 23/40\n",
            "313/313 [==============================] - 4s 14ms/step - loss: 0.6163 - accuracy: 0.8079 - val_loss: 0.8786 - val_accuracy: 0.7185\n",
            "Epoch 24/40\n",
            "313/313 [==============================] - 4s 13ms/step - loss: 0.6200 - accuracy: 0.8059 - val_loss: 0.7600 - val_accuracy: 0.7709\n",
            "Epoch 25/40\n",
            "313/313 [==============================] - 4s 14ms/step - loss: 0.6268 - accuracy: 0.8038 - val_loss: 0.8156 - val_accuracy: 0.7475\n",
            "Epoch 26/40\n",
            "313/313 [==============================] - 4s 13ms/step - loss: 0.6277 - accuracy: 0.8058 - val_loss: 0.9106 - val_accuracy: 0.7474\n",
            "Epoch 27/40\n",
            "313/313 [==============================] - 4s 13ms/step - loss: 0.6317 - accuracy: 0.8030 - val_loss: 0.7874 - val_accuracy: 0.7874\n",
            "Epoch 28/40\n",
            "313/313 [==============================] - 4s 13ms/step - loss: 0.6323 - accuracy: 0.8041 - val_loss: 1.0064 - val_accuracy: 0.7787\n",
            "Epoch 29/40\n",
            "313/313 [==============================] - 4s 13ms/step - loss: 0.6444 - accuracy: 0.8000 - val_loss: 0.8854 - val_accuracy: 0.7746\n",
            "Epoch 30/40\n",
            "313/313 [==============================] - 4s 13ms/step - loss: 0.6414 - accuracy: 0.8010 - val_loss: 0.8245 - val_accuracy: 0.7803\n",
            "Epoch 31/40\n",
            "313/313 [==============================] - 4s 14ms/step - loss: 0.6464 - accuracy: 0.7969 - val_loss: 1.0007 - val_accuracy: 0.6862\n",
            "Epoch 32/40\n",
            "313/313 [==============================] - 4s 13ms/step - loss: 0.6632 - accuracy: 0.7973 - val_loss: 0.8504 - val_accuracy: 0.7462\n",
            "Epoch 33/40\n",
            "313/313 [==============================] - 4s 13ms/step - loss: 0.6669 - accuracy: 0.7921 - val_loss: 0.8537 - val_accuracy: 0.7490\n",
            "Epoch 34/40\n",
            "313/313 [==============================] - 4s 13ms/step - loss: 0.6478 - accuracy: 0.7992 - val_loss: 1.1223 - val_accuracy: 0.7250\n",
            "Epoch 35/40\n",
            "313/313 [==============================] - 4s 14ms/step - loss: 0.6835 - accuracy: 0.7926 - val_loss: 0.9491 - val_accuracy: 0.7738\n",
            "Epoch 36/40\n",
            "313/313 [==============================] - 4s 13ms/step - loss: 0.6722 - accuracy: 0.7904 - val_loss: 1.0808 - val_accuracy: 0.7821\n",
            "Epoch 37/40\n",
            "313/313 [==============================] - 4s 13ms/step - loss: 0.6668 - accuracy: 0.7930 - val_loss: 0.8301 - val_accuracy: 0.7649\n",
            "Epoch 38/40\n",
            "313/313 [==============================] - 4s 13ms/step - loss: 0.6827 - accuracy: 0.7897 - val_loss: 0.8036 - val_accuracy: 0.7597\n",
            "Epoch 39/40\n",
            "313/313 [==============================] - 5s 15ms/step - loss: 0.6803 - accuracy: 0.7929 - val_loss: 0.9727 - val_accuracy: 0.7779\n",
            "Epoch 40/40\n",
            "313/313 [==============================] - 4s 13ms/step - loss: 0.6939 - accuracy: 0.7866 - val_loss: 0.7965 - val_accuracy: 0.7710\n"
          ]
        }
      ]
    },
    {
      "cell_type": "code",
      "source": [
        "save_path = 'save/cifar10_{epoch}.ckpt'\n",
        "save_callback = tf.keras.callbacks.ModelCheckpoint(filepath=save_path, save_weights_only=True)\n",
        "\n",
        "\n",
        "# 3. plot the loss and accuracy evolution during training\n",
        "fig, axs = plt.subplots(1, 2, figsize=(10,5))\n",
        "axs[0].plot(model_history.epoch, model_history.history['loss'])\n",
        "axs[0].plot(model_history.epoch, model_history.history['val_loss'])\n",
        "axs[0].legend(('training loss', 'validation loss'), loc='lower right')\n",
        "axs[1].plot(model_history.epoch, model_history.history['accuracy'])\n",
        "axs[1].plot(model_history.epoch, model_history.history['val_accuracy'])\n",
        "\n",
        "axs[1].legend(('training accuracy', 'validation accuracy'), loc='lower right')\n",
        "plt.show()"
      ],
      "metadata": {
        "colab": {
          "base_uri": "https://localhost:8080/",
          "height": 320
        },
        "id": "2XgtFTXpHQx3",
        "outputId": "655b0c69-7224-495c-f90f-b4565c1cdcde"
      },
      "execution_count": 15,
      "outputs": [
        {
          "output_type": "display_data",
          "data": {
            "text/plain": [
              "<Figure size 720x360 with 2 Axes>"
            ],
            "image/png": "[encoded data removed]"
          },
          "metadata": {
            "needs_background": "light"
          }
        }
      ]
    }
  ]
}