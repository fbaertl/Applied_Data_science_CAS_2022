{
  "cells": [
    {
      "cell_type": "markdown",
      "metadata": {
        "id": "view-in-github",
        "colab_type": "text"
      },
      "source": [
        "<a href=\"https://colab.research.google.com/github/fbaertl/Applied_Data_science_CAS_2022/blob/main/Fred_and_Nico_Notebook_CAS_M6.ipynb\" target=\"_parent\"><img src=\"https://colab.research.google.com/assets/colab-badge.svg\" alt=\"Open In Colab\"/></a>"
      ]
    },
    {
      "cell_type": "markdown",
      "metadata": {
        "id": "fi4_1xKavZCQ"
      },
      "source": [
        "# **Project Module 6 - CIFAR10**\n",
        "\n",
        "The goal of this notebook is to apply the knowledge acquired during the Bern Winter School on Machine Learning of 2023.\n",
        "\n",
        "\n",
        "The data for the M6 project comes from the dataset CIFRA10 from the keras.io team:\n",
        "https://keras.io/api/datasets/cifar10/\n",
        "\n",
        "Each of the 10 classes of this dataset contains exacly 6000 samples(5000 for training and 1000 for test)."
      ]
    },
    {
      "cell_type": "code",
      "execution_count": 46,
      "metadata": {
        "id": "3B-A3ZUac5RU",
        "colab": {
          "base_uri": "https://localhost:8080/"
        },
        "outputId": "9ba9baf1-e2f5-4f40-be14-2ec593c63456"
      },
      "outputs": [
        {
          "output_type": "stream",
          "name": "stdout",
          "text": [
            "The tensorboard extension is already loaded. To reload it, use:\n",
            "  %reload_ext tensorboard\n"
          ]
        }
      ],
      "source": [
        "# Import the needed libraries\n",
        "\n",
        "from __future__ import print_function\n",
        "\n",
        "import os\n",
        "import sys\n",
        "import shutil\n",
        "import tarfile\n",
        "\n",
        "import numpy as np\n",
        "import matplotlib\n",
        "import matplotlib.pyplot as plt\n",
        "import tensorflow as tf\n",
        "\n",
        "from tensorflow import keras\n",
        "from keras.models import Sequential\n",
        "from keras.layers import Dense, Dropout, Activation, Flatten\n",
        "from keras.layers import Conv2D, MaxPooling2D\n",
        "\n",
        "from sklearn.metrics import confusion_matrix, classification_report\n",
        "import itertools\n",
        "from keras.preprocessing.image import ImageDataGenerator\n",
        "\n",
        "%load_ext tensorboard\n",
        "%matplotlib inline\n",
        "\n",
        "##from keras.preprocessing.image import ImageDataGenerator"
      ]
    },
    {
      "cell_type": "code",
      "execution_count": 47,
      "metadata": {
        "id": "L78qIu8I0Ps9"
      },
      "outputs": [],
      "source": [
        "# Get CIFAR10 data from our source: https://keras.io/api/datasets/cifar10/\n",
        "\n",
        "cifar10 = tf.keras.datasets.cifar10\n",
        "\n",
        "# The default batch size of keras is 32\n",
        "## and the number of classes for cifar10 is 10.\n",
        "# This information is important for the next step."
      ]
    },
    {
      "cell_type": "code",
      "execution_count": 105,
      "metadata": {
        "id": "xjcWpHTIz_QC"
      },
      "outputs": [],
      "source": [
        "# Setting the parameters for our model\n",
        "\n",
        "batch_size = 32  # Forum discussions indicated batch_size of 32 is ideal for the CIFAR10 set \n",
        "num_classes = 10\n",
        "epochs = 100 #(FURTHER VARIABLES TRIED 50)\n",
        "data_augmentation = False # THIS INTEGRATED LOGIC HAS NOT BEEN USED BUT A SEPARATE MODEL WITH DATA  AUGMENTATION WAS USED INSTEAD (See below)"
      ]
    },
    {
      "cell_type": "code",
      "execution_count": 49,
      "metadata": {
        "colab": {
          "base_uri": "https://localhost:8080/"
        },
        "id": "laCPs_Ki2Yrx",
        "outputId": "b919f57e-07d1-4b5f-a78b-e384cf4deb8b"
      },
      "outputs": [
        {
          "output_type": "stream",
          "name": "stdout",
          "text": [
            "Number of train samples: 50000\n",
            "Number of test samples: 10000\n",
            "Our x_train shape: (50000, 32, 32, 3)\n",
            "Our y_train shape: (50000, 1)\n"
          ]
        }
      ],
      "source": [
        "# Building the model:\n",
        "\n",
        "(x_train, y_train), (x_test, y_test) = cifar10.load_data()\n",
        "\n",
        "print('Number of train samples:', x_train.shape[0])\n",
        "print('Number of test samples:', x_test.shape[0])\n",
        "\n",
        "print('Our x_train shape:', x_train.shape)\n",
        "print('Our y_train shape:', y_train.shape)"
      ]
    },
    {
      "cell_type": "code",
      "execution_count": 50,
      "metadata": {
        "id": "VPRFfUvp39Jz"
      },
      "outputs": [],
      "source": [
        "# Normalizing the data by converting it to float.\n",
        "\n",
        "x_train = x_train.astype('float32')\n",
        "x_test = x_test.astype('float32')\n",
        "x_train /= 255\n",
        "x_test /= 255\n",
        "\n",
        "# Convert class vectors to binary class matrices.\n",
        "\n",
        "y_train = keras.utils.to_categorical(y_train, num_classes)\n",
        "y_test = keras.utils.to_categorical(y_test, num_classes)"
      ]
    },
    {
      "cell_type": "code",
      "execution_count": 106,
      "metadata": {
        "id": "zflQSQEb6ynp"
      },
      "outputs": [],
      "source": [
        "# We define the model of CNN we want.\n",
        "\n",
        "model = Sequential() # We add layers to the model one by one.\n",
        "\n",
        "#First stage\n",
        "## 32 kernels\n",
        "#model.add(Conv2D(32, (3, 3), padding='same', USED INITIALLY BEFORE CHANGING FILTER\n",
        "model.add(Conv2D(32, (5, 5), padding='same',\n",
        "                 input_shape=x_train.shape[1:],\n",
        "                 activation = 'relu'))\n",
        "## 32 kernels bis\n",
        "#model.add(Conv2D(32, (5, 5),  activation = 'relu')) USED INITIALLY BEFORE CHANGING FILTER\n",
        "model.add(Conv2D(32, (5, 5),  activation = 'relu'))\n",
        "## Max-pooling operation to reduce computational load NOT USED FOR INITIAL MODEL)\n",
        "model.add(MaxPooling2D(pool_size=(2, 2)))\n",
        "## Dropout of random 25% neurons (FURTHER VARIABLES TRIED 0, 0.1 , 0.25)\n",
        "model.add(Dropout(0.20))\n",
        "\n",
        "# Second stage\n",
        "## 64 kernels\n",
        "#model.add(Conv2D(64, (3, 3), padding='same', USED INITIALLY BEFORE CHANGING FILTER\n",
        "model.add(Conv2D(64, (5, 5), padding='same',\n",
        "                activation = 'relu'))\n",
        "## 64 kernels bis\n",
        "#model.add(Conv2D(64, (3, 3),  activation = 'relu')) USED INITIALLY BEFORE CHANGING FILTER\n",
        "model.add(Conv2D(64, (5, 5), activation = 'relu'))\n",
        "## Max-pooling operation (NOT USED FOR INITIAL MODEL)\n",
        "model.add(MaxPooling2D(pool_size=(2, 2)))\n",
        "## Dropout of 25% (FURTHER VARIABLES TRIED 0, 0.1 , 0.25)\n",
        "model.add(Dropout(0.20))\n",
        "\n",
        "\n",
        "# Final stage\n",
        "## Converting the image to 1D\n",
        "## (needed for the accuracy metric and to have compatible metrics)\n",
        "model.add(Flatten())\n",
        "## Adding 512 neurons\n",
        "model.add(Dense(512, activation = 'relu'))\n",
        "## Dropout of 50% (FURTHER VARIABLES TRIED 0, 0.3 , 0.4)\n",
        "model.add(Dropout(0.5))\n",
        "# Adding a softmax classifier (10 classes)\n",
        "model.add(Dense(num_classes))\n",
        "model.add(Activation('softmax'))"
      ]
    },
    {
      "cell_type": "code",
      "execution_count": 107,
      "metadata": {
        "colab": {
          "base_uri": "https://localhost:8080/"
        },
        "id": "CXgJToFkl55k",
        "outputId": "072cdc87-a5bc-480a-cc2d-2a6302b47651"
      },
      "outputs": [
        {
          "output_type": "stream",
          "name": "stdout",
          "text": [
            "Model: \"sequential_24\"\n",
            "_________________________________________________________________\n",
            " Layer (type)                Output Shape              Param #   \n",
            "=================================================================\n",
            " conv2d_94 (Conv2D)          (None, 32, 32, 32)        2432      \n",
            "                                                                 \n",
            " conv2d_95 (Conv2D)          (None, 28, 28, 32)        25632     \n",
            "                                                                 \n",
            " max_pooling2d_47 (MaxPoolin  (None, 14, 14, 32)       0         \n",
            " g2D)                                                            \n",
            "                                                                 \n",
            " dropout_47 (Dropout)        (None, 14, 14, 32)        0         \n",
            "                                                                 \n",
            " conv2d_96 (Conv2D)          (None, 14, 14, 64)        51264     \n",
            "                                                                 \n",
            " conv2d_97 (Conv2D)          (None, 10, 10, 64)        102464    \n",
            "                                                                 \n",
            " max_pooling2d_48 (MaxPoolin  (None, 5, 5, 64)         0         \n",
            " g2D)                                                            \n",
            "                                                                 \n",
            " dropout_48 (Dropout)        (None, 5, 5, 64)          0         \n",
            "                                                                 \n",
            " flatten_20 (Flatten)        (None, 1600)              0         \n",
            "                                                                 \n",
            " dense_39 (Dense)            (None, 512)               819712    \n",
            "                                                                 \n",
            " dropout_49 (Dropout)        (None, 512)               0         \n",
            "                                                                 \n",
            " dense_40 (Dense)            (None, 10)                5130      \n",
            "                                                                 \n",
            " activation_15 (Activation)  (None, 10)                0         \n",
            "                                                                 \n",
            "=================================================================\n",
            "Total params: 1,006,634\n",
            "Trainable params: 1,006,634\n",
            "Non-trainable params: 0\n",
            "_________________________________________________________________\n"
          ]
        }
      ],
      "source": [
        "# Training the model\n",
        "\n",
        "## Optimizer as RMSprop better than stochactic gradient descent (SGD)\n",
        "optimizer = tf.keras.optimizers.legacy.RMSprop(learning_rate=0.0001) #(INITIALLY 0.001 but failed)\n",
        "                                        #decay = 1e-6)\n",
        "\n",
        "## Loss function (categorcial crossentropy instead of mse)\n",
        "loss = 'categorical_crossentropy'\n",
        "\n",
        "model.compile(optimizer = optimizer,\n",
        "              loss = loss,\n",
        "              metrics = 'accuracy')\n",
        "model.summary()"
      ]
    },
    {
      "cell_type": "code",
      "execution_count": 108,
      "metadata": {
        "colab": {
          "base_uri": "https://localhost:8080/"
        },
        "id": "d-Xf4PoOnsi7",
        "outputId": "1a5c7e51-af4c-43a7-8bb4-b59ffd87546b"
      },
      "outputs": [
        {
          "output_type": "stream",
          "name": "stdout",
          "text": [
            "Epoch 1/100\n",
            "1563/1563 [==============================] - 12s 7ms/step - loss: 1.7879 - accuracy: 0.3411 - val_loss: 1.6769 - val_accuracy: 0.4048\n",
            "Epoch 2/100\n",
            "1563/1563 [==============================] - 10s 7ms/step - loss: 1.4454 - accuracy: 0.4751 - val_loss: 1.3275 - val_accuracy: 0.5215\n",
            "Epoch 3/100\n",
            "1563/1563 [==============================] - 10s 7ms/step - loss: 1.2767 - accuracy: 0.5418 - val_loss: 1.2052 - val_accuracy: 0.5626\n",
            "Epoch 4/100\n",
            "1563/1563 [==============================] - 10s 7ms/step - loss: 1.1599 - accuracy: 0.5860 - val_loss: 1.0349 - val_accuracy: 0.6331\n",
            "Epoch 5/100\n",
            "1563/1563 [==============================] - 10s 7ms/step - loss: 1.0647 - accuracy: 0.6233 - val_loss: 1.0291 - val_accuracy: 0.6378\n",
            "Epoch 6/100\n",
            "1563/1563 [==============================] - 10s 6ms/step - loss: 0.9948 - accuracy: 0.6486 - val_loss: 0.9340 - val_accuracy: 0.6711\n",
            "Epoch 7/100\n",
            "1563/1563 [==============================] - 10s 6ms/step - loss: 0.9387 - accuracy: 0.6684 - val_loss: 0.9033 - val_accuracy: 0.6791\n",
            "Epoch 8/100\n",
            "1563/1563 [==============================] - 10s 6ms/step - loss: 0.8934 - accuracy: 0.6874 - val_loss: 0.9200 - val_accuracy: 0.6792\n",
            "Epoch 9/100\n",
            "1563/1563 [==============================] - 10s 7ms/step - loss: 0.8511 - accuracy: 0.7015 - val_loss: 0.8366 - val_accuracy: 0.7080\n",
            "Epoch 10/100\n",
            "1563/1563 [==============================] - 10s 7ms/step - loss: 0.8144 - accuracy: 0.7148 - val_loss: 0.7811 - val_accuracy: 0.7298\n",
            "Epoch 11/100\n",
            "1563/1563 [==============================] - 10s 6ms/step - loss: 0.7802 - accuracy: 0.7263 - val_loss: 0.8574 - val_accuracy: 0.7096\n",
            "Epoch 12/100\n",
            "1563/1563 [==============================] - 10s 7ms/step - loss: 0.7533 - accuracy: 0.7375 - val_loss: 0.7697 - val_accuracy: 0.7329\n",
            "Epoch 13/100\n",
            "1563/1563 [==============================] - 10s 7ms/step - loss: 0.7292 - accuracy: 0.7429 - val_loss: 0.7378 - val_accuracy: 0.7430\n",
            "Epoch 14/100\n",
            "1563/1563 [==============================] - 10s 7ms/step - loss: 0.6997 - accuracy: 0.7560 - val_loss: 0.7180 - val_accuracy: 0.7509\n",
            "Epoch 15/100\n",
            "1563/1563 [==============================] - 10s 7ms/step - loss: 0.6780 - accuracy: 0.7643 - val_loss: 0.7505 - val_accuracy: 0.7406\n",
            "Epoch 16/100\n",
            "1563/1563 [==============================] - 10s 6ms/step - loss: 0.6635 - accuracy: 0.7708 - val_loss: 0.6969 - val_accuracy: 0.7620\n",
            "Epoch 17/100\n",
            "1563/1563 [==============================] - 10s 7ms/step - loss: 0.6430 - accuracy: 0.7768 - val_loss: 0.7403 - val_accuracy: 0.7535\n",
            "Epoch 18/100\n",
            "1563/1563 [==============================] - 10s 7ms/step - loss: 0.6301 - accuracy: 0.7815 - val_loss: 0.7141 - val_accuracy: 0.7534\n",
            "Epoch 19/100\n",
            "1563/1563 [==============================] - 10s 7ms/step - loss: 0.6134 - accuracy: 0.7878 - val_loss: 0.6666 - val_accuracy: 0.7711\n",
            "Epoch 20/100\n",
            "1563/1563 [==============================] - 10s 7ms/step - loss: 0.5980 - accuracy: 0.7924 - val_loss: 0.7185 - val_accuracy: 0.7573\n",
            "Epoch 21/100\n",
            "1563/1563 [==============================] - 10s 7ms/step - loss: 0.5822 - accuracy: 0.7985 - val_loss: 0.7200 - val_accuracy: 0.7554\n",
            "Epoch 22/100\n",
            "1563/1563 [==============================] - 10s 7ms/step - loss: 0.5715 - accuracy: 0.8011 - val_loss: 0.6813 - val_accuracy: 0.7699\n",
            "Epoch 23/100\n",
            "1563/1563 [==============================] - 10s 7ms/step - loss: 0.5588 - accuracy: 0.8081 - val_loss: 0.6417 - val_accuracy: 0.7822\n",
            "Epoch 24/100\n",
            "1563/1563 [==============================] - 10s 7ms/step - loss: 0.5473 - accuracy: 0.8116 - val_loss: 0.6881 - val_accuracy: 0.7681\n",
            "Epoch 25/100\n",
            "1563/1563 [==============================] - 10s 6ms/step - loss: 0.5367 - accuracy: 0.8165 - val_loss: 0.6382 - val_accuracy: 0.7801\n",
            "Epoch 26/100\n",
            "1563/1563 [==============================] - 10s 6ms/step - loss: 0.5257 - accuracy: 0.8198 - val_loss: 0.6576 - val_accuracy: 0.7810\n",
            "Epoch 27/100\n",
            "1563/1563 [==============================] - 10s 7ms/step - loss: 0.5160 - accuracy: 0.8229 - val_loss: 0.6449 - val_accuracy: 0.7843\n",
            "Epoch 28/100\n",
            "1563/1563 [==============================] - 11s 7ms/step - loss: 0.5102 - accuracy: 0.8269 - val_loss: 0.6829 - val_accuracy: 0.7735\n",
            "Epoch 29/100\n",
            "1563/1563 [==============================] - 10s 7ms/step - loss: 0.5006 - accuracy: 0.8293 - val_loss: 0.6880 - val_accuracy: 0.7762\n",
            "Epoch 30/100\n",
            "1563/1563 [==============================] - 10s 7ms/step - loss: 0.4954 - accuracy: 0.8308 - val_loss: 0.6437 - val_accuracy: 0.7868\n",
            "Epoch 31/100\n",
            "1563/1563 [==============================] - 10s 6ms/step - loss: 0.4895 - accuracy: 0.8332 - val_loss: 0.6866 - val_accuracy: 0.7880\n",
            "Epoch 32/100\n",
            "1563/1563 [==============================] - 10s 7ms/step - loss: 0.4859 - accuracy: 0.8349 - val_loss: 0.6907 - val_accuracy: 0.7746\n",
            "Epoch 33/100\n",
            "1563/1563 [==============================] - 10s 7ms/step - loss: 0.4778 - accuracy: 0.8382 - val_loss: 0.6322 - val_accuracy: 0.7983\n",
            "Epoch 34/100\n",
            "1563/1563 [==============================] - 10s 6ms/step - loss: 0.4751 - accuracy: 0.8391 - val_loss: 0.6724 - val_accuracy: 0.7882\n",
            "Epoch 35/100\n",
            "1563/1563 [==============================] - 10s 7ms/step - loss: 0.4641 - accuracy: 0.8431 - val_loss: 0.7246 - val_accuracy: 0.7692\n",
            "Epoch 36/100\n",
            "1563/1563 [==============================] - 10s 6ms/step - loss: 0.4641 - accuracy: 0.8440 - val_loss: 0.6771 - val_accuracy: 0.7803\n",
            "Epoch 37/100\n",
            "1563/1563 [==============================] - 10s 7ms/step - loss: 0.4601 - accuracy: 0.8444 - val_loss: 0.6903 - val_accuracy: 0.7873\n",
            "Epoch 38/100\n",
            "1563/1563 [==============================] - 10s 7ms/step - loss: 0.4606 - accuracy: 0.8452 - val_loss: 0.6475 - val_accuracy: 0.7939\n",
            "Epoch 39/100\n",
            "1563/1563 [==============================] - 10s 7ms/step - loss: 0.4549 - accuracy: 0.8443 - val_loss: 0.6961 - val_accuracy: 0.7889\n",
            "Epoch 40/100\n",
            "1563/1563 [==============================] - 10s 7ms/step - loss: 0.4521 - accuracy: 0.8468 - val_loss: 0.7926 - val_accuracy: 0.7585\n",
            "Epoch 41/100\n",
            "1563/1563 [==============================] - 10s 7ms/step - loss: 0.4535 - accuracy: 0.8492 - val_loss: 0.7481 - val_accuracy: 0.7807\n",
            "Epoch 42/100\n",
            "1563/1563 [==============================] - 10s 7ms/step - loss: 0.4446 - accuracy: 0.8501 - val_loss: 0.6747 - val_accuracy: 0.7876\n",
            "Epoch 43/100\n",
            "1563/1563 [==============================] - 10s 7ms/step - loss: 0.4417 - accuracy: 0.8516 - val_loss: 0.6790 - val_accuracy: 0.7869\n",
            "Epoch 44/100\n",
            "1563/1563 [==============================] - 10s 7ms/step - loss: 0.4391 - accuracy: 0.8540 - val_loss: 0.6645 - val_accuracy: 0.7981\n",
            "Epoch 45/100\n",
            "1563/1563 [==============================] - 10s 7ms/step - loss: 0.4354 - accuracy: 0.8553 - val_loss: 0.6786 - val_accuracy: 0.7991\n",
            "Epoch 46/100\n",
            "1563/1563 [==============================] - 10s 7ms/step - loss: 0.4338 - accuracy: 0.8554 - val_loss: 0.7085 - val_accuracy: 0.7955\n",
            "Epoch 47/100\n",
            "1563/1563 [==============================] - 10s 7ms/step - loss: 0.4307 - accuracy: 0.8557 - val_loss: 0.7695 - val_accuracy: 0.7844\n",
            "Epoch 48/100\n",
            "1563/1563 [==============================] - 10s 6ms/step - loss: 0.4329 - accuracy: 0.8557 - val_loss: 0.7619 - val_accuracy: 0.7851\n",
            "Epoch 49/100\n",
            "1563/1563 [==============================] - 10s 6ms/step - loss: 0.4269 - accuracy: 0.8587 - val_loss: 0.7400 - val_accuracy: 0.8005\n",
            "Epoch 50/100\n",
            "1563/1563 [==============================] - 10s 7ms/step - loss: 0.4283 - accuracy: 0.8577 - val_loss: 0.6972 - val_accuracy: 0.7917\n",
            "Epoch 51/100\n",
            "1563/1563 [==============================] - 10s 7ms/step - loss: 0.4255 - accuracy: 0.8589 - val_loss: 0.7351 - val_accuracy: 0.7854\n",
            "Epoch 52/100\n",
            "1563/1563 [==============================] - 10s 7ms/step - loss: 0.4308 - accuracy: 0.8594 - val_loss: 0.7505 - val_accuracy: 0.7907\n",
            "Epoch 53/100\n",
            "1563/1563 [==============================] - 10s 6ms/step - loss: 0.4244 - accuracy: 0.8611 - val_loss: 0.6791 - val_accuracy: 0.8001\n",
            "Epoch 54/100\n",
            "1563/1563 [==============================] - 10s 7ms/step - loss: 0.4261 - accuracy: 0.8614 - val_loss: 0.7105 - val_accuracy: 0.7848\n",
            "Epoch 55/100\n",
            "1563/1563 [==============================] - 10s 7ms/step - loss: 0.4240 - accuracy: 0.8591 - val_loss: 0.7242 - val_accuracy: 0.7935\n",
            "Epoch 56/100\n",
            "1563/1563 [==============================] - 10s 7ms/step - loss: 0.4261 - accuracy: 0.8599 - val_loss: 0.6796 - val_accuracy: 0.8001\n",
            "Epoch 57/100\n",
            "1563/1563 [==============================] - 10s 7ms/step - loss: 0.4271 - accuracy: 0.8608 - val_loss: 0.7691 - val_accuracy: 0.7846\n",
            "Epoch 58/100\n",
            "1563/1563 [==============================] - 10s 6ms/step - loss: 0.4259 - accuracy: 0.8591 - val_loss: 0.6841 - val_accuracy: 0.7944\n",
            "Epoch 59/100\n",
            "1563/1563 [==============================] - 10s 7ms/step - loss: 0.4290 - accuracy: 0.8613 - val_loss: 0.7393 - val_accuracy: 0.7903\n",
            "Epoch 60/100\n",
            "1563/1563 [==============================] - 10s 7ms/step - loss: 0.4192 - accuracy: 0.8631 - val_loss: 0.7264 - val_accuracy: 0.7846\n",
            "Epoch 61/100\n",
            "1563/1563 [==============================] - 10s 7ms/step - loss: 0.4338 - accuracy: 0.8592 - val_loss: 0.7227 - val_accuracy: 0.7912\n",
            "Epoch 62/100\n",
            "1563/1563 [==============================] - 10s 7ms/step - loss: 0.4247 - accuracy: 0.8609 - val_loss: 0.6872 - val_accuracy: 0.7953\n",
            "Epoch 63/100\n",
            "1563/1563 [==============================] - 10s 7ms/step - loss: 0.4240 - accuracy: 0.8625 - val_loss: 0.7187 - val_accuracy: 0.7801\n",
            "Epoch 64/100\n",
            "1563/1563 [==============================] - 10s 7ms/step - loss: 0.4263 - accuracy: 0.8617 - val_loss: 0.6971 - val_accuracy: 0.7950\n",
            "Epoch 65/100\n",
            "1563/1563 [==============================] - 10s 7ms/step - loss: 0.4261 - accuracy: 0.8634 - val_loss: 0.6745 - val_accuracy: 0.7976\n",
            "Epoch 66/100\n",
            "1563/1563 [==============================] - 10s 7ms/step - loss: 0.4352 - accuracy: 0.8593 - val_loss: 0.6869 - val_accuracy: 0.7964\n",
            "Epoch 67/100\n",
            "1563/1563 [==============================] - 10s 7ms/step - loss: 0.4392 - accuracy: 0.8605 - val_loss: 0.7459 - val_accuracy: 0.7929\n",
            "Epoch 68/100\n",
            "1563/1563 [==============================] - 10s 7ms/step - loss: 0.4242 - accuracy: 0.8611 - val_loss: 0.7012 - val_accuracy: 0.7937\n",
            "Epoch 69/100\n",
            "1563/1563 [==============================] - 10s 7ms/step - loss: 0.4298 - accuracy: 0.8619 - val_loss: 0.7192 - val_accuracy: 0.7827\n",
            "Epoch 70/100\n",
            "1563/1563 [==============================] - 10s 7ms/step - loss: 0.4338 - accuracy: 0.8620 - val_loss: 0.7486 - val_accuracy: 0.7837\n",
            "Epoch 71/100\n",
            "1563/1563 [==============================] - 10s 7ms/step - loss: 0.4317 - accuracy: 0.8607 - val_loss: 0.7279 - val_accuracy: 0.7812\n",
            "Epoch 72/100\n",
            "1563/1563 [==============================] - 10s 7ms/step - loss: 0.4355 - accuracy: 0.8598 - val_loss: 0.8218 - val_accuracy: 0.7733\n",
            "Epoch 73/100\n",
            "1563/1563 [==============================] - 10s 7ms/step - loss: 0.4313 - accuracy: 0.8609 - val_loss: 0.8462 - val_accuracy: 0.7802\n",
            "Epoch 74/100\n",
            "1563/1563 [==============================] - 10s 7ms/step - loss: 0.4388 - accuracy: 0.8600 - val_loss: 0.7367 - val_accuracy: 0.7844\n",
            "Epoch 75/100\n",
            "1563/1563 [==============================] - 10s 7ms/step - loss: 0.4428 - accuracy: 0.8573 - val_loss: 0.8951 - val_accuracy: 0.7674\n",
            "Epoch 76/100\n",
            "1563/1563 [==============================] - 10s 7ms/step - loss: 0.4382 - accuracy: 0.8620 - val_loss: 0.7228 - val_accuracy: 0.7937\n",
            "Epoch 77/100\n",
            "1563/1563 [==============================] - 10s 7ms/step - loss: 0.4361 - accuracy: 0.8609 - val_loss: 0.7867 - val_accuracy: 0.7663\n",
            "Epoch 78/100\n",
            "1563/1563 [==============================] - 10s 7ms/step - loss: 0.4405 - accuracy: 0.8606 - val_loss: 0.7535 - val_accuracy: 0.8051\n",
            "Epoch 79/100\n",
            "1563/1563 [==============================] - 10s 7ms/step - loss: 0.4485 - accuracy: 0.8591 - val_loss: 0.7660 - val_accuracy: 0.7809\n",
            "Epoch 80/100\n",
            "1563/1563 [==============================] - 10s 7ms/step - loss: 0.4460 - accuracy: 0.8583 - val_loss: 0.7794 - val_accuracy: 0.7696\n",
            "Epoch 81/100\n",
            "1563/1563 [==============================] - 10s 7ms/step - loss: 0.4449 - accuracy: 0.8590 - val_loss: 0.7808 - val_accuracy: 0.7861\n",
            "Epoch 82/100\n",
            "1563/1563 [==============================] - 10s 7ms/step - loss: 0.4408 - accuracy: 0.8591 - val_loss: 0.7380 - val_accuracy: 0.7835\n",
            "Epoch 83/100\n",
            "1563/1563 [==============================] - 10s 7ms/step - loss: 0.4531 - accuracy: 0.8589 - val_loss: 0.7538 - val_accuracy: 0.7816\n",
            "Epoch 84/100\n",
            "1563/1563 [==============================] - 10s 7ms/step - loss: 0.4477 - accuracy: 0.8591 - val_loss: 0.7661 - val_accuracy: 0.7961\n",
            "Epoch 85/100\n",
            "1563/1563 [==============================] - 10s 7ms/step - loss: 0.4556 - accuracy: 0.8544 - val_loss: 0.7485 - val_accuracy: 0.7922\n",
            "Epoch 86/100\n",
            "1563/1563 [==============================] - 10s 6ms/step - loss: 0.4551 - accuracy: 0.8553 - val_loss: 0.7537 - val_accuracy: 0.7796\n",
            "Epoch 87/100\n",
            "1563/1563 [==============================] - 10s 7ms/step - loss: 0.4598 - accuracy: 0.8550 - val_loss: 0.7571 - val_accuracy: 0.7709\n",
            "Epoch 88/100\n",
            "1563/1563 [==============================] - 10s 7ms/step - loss: 0.4579 - accuracy: 0.8547 - val_loss: 0.7964 - val_accuracy: 0.7824\n",
            "Epoch 89/100\n",
            "1563/1563 [==============================] - 10s 7ms/step - loss: 0.4651 - accuracy: 0.8556 - val_loss: 0.7354 - val_accuracy: 0.7833\n",
            "Epoch 90/100\n",
            "1563/1563 [==============================] - 10s 7ms/step - loss: 0.4640 - accuracy: 0.8534 - val_loss: 0.7414 - val_accuracy: 0.7818\n",
            "Epoch 91/100\n",
            "1563/1563 [==============================] - 10s 6ms/step - loss: 0.4699 - accuracy: 0.8521 - val_loss: 0.7853 - val_accuracy: 0.7589\n",
            "Epoch 92/100\n",
            "1563/1563 [==============================] - 10s 7ms/step - loss: 0.4727 - accuracy: 0.8518 - val_loss: 0.8058 - val_accuracy: 0.7892\n",
            "Epoch 93/100\n",
            "1563/1563 [==============================] - 10s 7ms/step - loss: 0.4769 - accuracy: 0.8498 - val_loss: 0.7503 - val_accuracy: 0.7801\n",
            "Epoch 94/100\n",
            "1563/1563 [==============================] - 10s 7ms/step - loss: 0.4765 - accuracy: 0.8524 - val_loss: 0.7275 - val_accuracy: 0.7841\n",
            "Epoch 95/100\n",
            "1563/1563 [==============================] - 10s 7ms/step - loss: 0.4748 - accuracy: 0.8523 - val_loss: 0.7738 - val_accuracy: 0.7794\n",
            "Epoch 96/100\n",
            "1563/1563 [==============================] - 10s 7ms/step - loss: 0.4746 - accuracy: 0.8500 - val_loss: 0.7708 - val_accuracy: 0.7764\n",
            "Epoch 97/100\n",
            "1563/1563 [==============================] - 10s 7ms/step - loss: 0.4863 - accuracy: 0.8472 - val_loss: 0.8386 - val_accuracy: 0.7529\n",
            "Epoch 98/100\n",
            "1563/1563 [==============================] - 10s 7ms/step - loss: 0.4786 - accuracy: 0.8497 - val_loss: 0.7299 - val_accuracy: 0.7827\n",
            "Epoch 99/100\n",
            "1563/1563 [==============================] - 10s 7ms/step - loss: 0.4932 - accuracy: 0.8494 - val_loss: 0.9453 - val_accuracy: 0.7199\n",
            "Epoch 100/100\n",
            "1563/1563 [==============================] - 10s 7ms/step - loss: 0.4887 - accuracy: 0.8491 - val_loss: 0.7221 - val_accuracy: 0.7853\n"
          ]
        }
      ],
      "source": [
        "# History of the model training\n",
        "\n",
        "history = None # history logic not used\n",
        "hist = model.fit(x_train, y_train, \n",
        "                 batch_size = batch_size,\n",
        "                 epochs = epochs,\n",
        "                 shuffle = True,\n",
        "                 validation_data = (x_test, y_test))"
      ]
    },
    {
      "cell_type": "code",
      "source": [
        "# Training and validation curves for evaluation\n",
        "\n",
        "fig, axs = plt.subplots(1, 2, figsize=(10,5))\n",
        "\n",
        "axs[0].set_title('Model Loss')\n",
        "axs[0].plot(hist.epoch, hist.history['loss'])\n",
        "axs[0].plot(hist.epoch, hist.history['val_loss'])\n",
        "axs[0].legend(('training loss', 'validation loss'), loc='upper right')\n",
        "\n",
        "axs[1].set_title('Model Accuracy')\n",
        "axs[1].plot(hist.epoch, hist.history['accuracy'])\n",
        "axs[1].plot(hist.epoch, hist.history['val_accuracy'])\n",
        "axs[1].legend(('training accuracy', 'validation accuracy'), loc='lower right')\n",
        "plt.show()"
      ],
      "metadata": {
        "colab": {
          "base_uri": "https://localhost:8080/",
          "height": 336
        },
        "id": "VzcSb9cLSGni",
        "outputId": "a1469fd5-82a7-477a-b639-7a4520b8fb47"
      },
      "execution_count": 109,
      "outputs": [
        {
          "output_type": "display_data",
          "data": {
            "text/plain": [
              "<Figure size 720x360 with 2 Axes>"
            ],
            "image/png": "[encoded data removed]"
          },
          "metadata": {
            "needs_background": "light"
          }
        }
      ]
    },
    {
      "cell_type": "code",
      "execution_count": 104,
      "metadata": {
        "colab": {
          "base_uri": "https://localhost:8080/",
          "height": 759
        },
        "id": "yDmHa8IxNb4p",
        "outputId": "82041448-c1bf-4926-80b9-194017f10751"
      },
      "outputs": [
        {
          "output_type": "stream",
          "name": "stdout",
          "text": [
            "313/313 [==============================] - 1s 2ms/step\n",
            "313/313 [==============================] - 1s 2ms/step\n",
            "Confusion matrix, without normalization\n",
            "[[791  10  13  36  15   4   5  12  87  27]\n",
            " [ 10 881   2  12   0   5   6   2  30  52]\n",
            " [ 77   4 566  99  91  64  43  29  19   8]\n",
            " [ 12   7  20 708  33 128  41  22  21   8]\n",
            " [ 11   0  25  69 763  37  30  47  16   2]\n",
            " [  7   0  11 189  31 712  14  32   3   1]\n",
            " [  7   1  19  78  19  24 837   3  10   2]\n",
            " [ 11   0   4  46  30  51   1 848   4   5]\n",
            " [ 31  12   1  10   1   1   3   2 926  13]\n",
            " [ 18  61   4  16   1   2   4  11  32 851]]\n"
          ]
        },
        {
          "output_type": "display_data",
          "data": {
            "text/plain": [
              "<Figure size 720x504 with 2 Axes>"
            ],
            "image/png": "[encoded data removed]"
          },
          "metadata": {
            "needs_background": "light"
          }
        }
      ],
      "source": [
        "# Confusion matrix\n",
        "\n",
        "# Convert predictions classes to one hot vectors \n",
        "y_pred_classes = np.argmax(model.predict(x_test), axis=1) \n",
        "# Convert validation observations to one hot vectors\n",
        "y_true = np.argmax(y_test, axis=1)\n",
        "# Errors are difference between predicted labels and true labels\n",
        "errors = (y_pred_classes - y_true != 0)\n",
        "\n",
        "y_pred_classes_errors = y_pred_classes[errors]\n",
        "y_pred_errors = model.predict(x_test)[errors]\n",
        "y_true_errors = y_true[errors]\n",
        "x_test_errors = x_test[errors]\n",
        "\n",
        "plt.rcParams['figure.figsize'] = [10,7]\n",
        "\n",
        "labels = ['airplane', 'automobile', 'bird', 'cat', 'deer', 'dog', 'frog', 'horse', 'ship', 'truck']\n",
        "\n",
        "def plot_confusion_matrix(cm, classes,\n",
        "                          normalize=False,\n",
        "                          title='Confusion matrix',\n",
        "                          cmap=plt.cm.Blues):\n",
        "\n",
        "  if normalize:\n",
        "      cm = cm.astype('float') / cm.sum(axis=1)[:, np.newaxis]\n",
        "      print(\"Normalized confusion matrix\")\n",
        "  else:\n",
        "      print('Confusion matrix, without normalization')\n",
        "\n",
        "  print(cm)\n",
        "\n",
        "  plt.imshow(cm, interpolation='nearest', cmap=cmap)\n",
        "  plt.title(title)\n",
        "  plt.colorbar()\n",
        "  tick_marks = np.arange(len(classes))\n",
        "  plt.xticks(tick_marks, classes, rotation=45)\n",
        "  plt.yticks(tick_marks, classes, rotation=45)\n",
        "\n",
        "  fmt = '.2f' if normalize else 'd'\n",
        "  thresh = cm.max() / 2.\n",
        "  for i, j in itertools.product(range(cm.shape[0]), range(cm.shape[1])):\n",
        "      plt.text(j, i, format(cm[i, j], fmt),\n",
        "               horizontalalignment=\"center\",\n",
        "               color=\"white\" if cm[i, j] > thresh else \"black\")\n",
        "\n",
        "  plt.tight_layout()\n",
        "  plt.ylabel(['truck', 'ship' , 'horse' , 'frog' , 'dog' , 'deer' , 'cat' , 'bird' , 'automobile' , 'airplane'])\n",
        "  plt.xlabel(labels)\n",
        "  plt.show()\n",
        "\n",
        "\n",
        "#p_test = model.predict(x_test).argmax(axis=1)\n",
        "#p_test = np.argmax(y_pred_classes)\n",
        "cm = confusion_matrix(y_true, y_pred_classes)\n",
        "plot_confusion_matrix(cm, list(range(10)))"
      ]
    },
    {
      "cell_type": "code",
      "execution_count": null,
      "metadata": {
        "id": "uiXSRuTBTyTI"
      },
      "outputs": [],
      "source": [
        "# Check the predictions\n",
        "\n",
        "R = 6\n",
        "C = 6\n",
        "fig, axes = plt.subplots(R, C, figsize=(12,12))\n",
        "axes = axes.ravel()\n",
        "\n",
        "for i in np.arange(0, R*C):\n",
        "    axes[i].imshow(x_test[i])\n",
        "    axes[i].set_title(\"True: %s \\nPredict: %s\" %\n",
        "                      (labels[y_true[i]], labels[y_pred_classes[i]]))\n",
        "    axes[i].axis('off')\n",
        "    plt.subplots_adjust(wspace=1)"
      ]
    },
    {
      "cell_type": "code",
      "execution_count": 52,
      "metadata": {
        "id": "ziMD6uNNTlW5"
      },
      "outputs": [],
      "source": [
        "#Version with more layers  WITH DATA AUGMENTATION \n",
        "# We define the model of CNN we want.\n",
        "\n",
        "# We define the model of CNN we want.\n",
        "\n",
        "model2 = Sequential() # We add layers to the model one by one.\n",
        "\n",
        "#First stage\n",
        "## 32 kernels\n",
        "model2.add(Conv2D(32, (3, 3), strides = 2, padding='same',\n",
        "                 input_shape=x_train.shape[1:],\n",
        "                 activation = 'relu'))\n",
        "## 32 kernels bis\n",
        "model2.add(Conv2D(32, (3, 3),  activation = 'relu'))\n",
        "## Max-pooling operation to reduce computational load\n",
        "model2.add(MaxPooling2D(pool_size=(2, 2)))\n",
        "## Dropout of random 25% neurons\n",
        "model2.add(Dropout(0.25))\n",
        "\n",
        "# Second stage\n",
        "## 64 kernels\n",
        "model2.add(Conv2D(64, (3, 3), strides = 2, padding='same',\n",
        "                activation = 'relu'))\n",
        "## 64 kernels bis\n",
        "model2.add(Conv2D(64, (3, 3), activation = 'relu'))\n",
        "## Max-pooling operation\n",
        "model2.add(MaxPooling2D(pool_size=(2, 2)))\n",
        "## Dropout of 25%\n",
        "model2.add(Dropout(0.25))\n",
        "\n",
        "# Third stage (not used as literatur indicated no addition accuracy gain with our dataset)\n",
        "## 128 kernels\n",
        "#model2.add(Conv2D(128, (3, 3), strides = 2, padding='same',\n",
        " #               activation = 'relu'))\n",
        "## 128 kernels bis\n",
        "#model2.add(Conv2D(128, (3, 3), activation = 'relu'))\n",
        "## Max-pooling operation\n",
        "#model2.add(MaxPooling2D(pool_size=(2, 2)))\n",
        "## Dropout of 25%\n",
        "#model2.add(Dropout(0.25))\n",
        "\n",
        "# Final stage\n",
        "## Converting the image to 1D\n",
        "## (needed for the accuracy metric and to have compatible metrics)\n",
        "model2.add(Flatten())\n",
        "## Adding 512 neurons\n",
        "model2.add(Dense(512, activation = 'relu'))\n",
        "## Dropout of 50%\n",
        "model2.add(Dropout(0.5))\n",
        "# Adding a softmax classifier (10 classes)\n",
        "model2.add(Dense(num_classes))\n",
        "model2.add(Activation('softmax'))"
      ]
    },
    {
      "cell_type": "code",
      "execution_count": 59,
      "metadata": {
        "colab": {
          "base_uri": "https://localhost:8080/"
        },
        "id": "Km9QVNC7UIcd",
        "outputId": "c9c362aa-0b9d-48c5-db44-229a85d4fb8a"
      },
      "outputs": [
        {
          "output_type": "stream",
          "name": "stdout",
          "text": [
            "Model: \"sequential_14\"\n",
            "_________________________________________________________________\n",
            " Layer (type)                Output Shape              Param #   \n",
            "=================================================================\n",
            " conv2d_54 (Conv2D)          (None, 16, 16, 32)        896       \n",
            "                                                                 \n",
            " conv2d_55 (Conv2D)          (None, 14, 14, 32)        9248      \n",
            "                                                                 \n",
            " max_pooling2d_27 (MaxPoolin  (None, 7, 7, 32)         0         \n",
            " g2D)                                                            \n",
            "                                                                 \n",
            " dropout_17 (Dropout)        (None, 7, 7, 32)          0         \n",
            "                                                                 \n",
            " conv2d_56 (Conv2D)          (None, 4, 4, 64)          18496     \n",
            "                                                                 \n",
            " conv2d_57 (Conv2D)          (None, 2, 2, 64)          36928     \n",
            "                                                                 \n",
            " max_pooling2d_28 (MaxPoolin  (None, 1, 1, 64)         0         \n",
            " g2D)                                                            \n",
            "                                                                 \n",
            " dropout_18 (Dropout)        (None, 1, 1, 64)          0         \n",
            "                                                                 \n",
            " flatten_10 (Flatten)        (None, 64)                0         \n",
            "                                                                 \n",
            " dense_19 (Dense)            (None, 512)               33280     \n",
            "                                                                 \n",
            " dropout_19 (Dropout)        (None, 512)               0         \n",
            "                                                                 \n",
            " dense_20 (Dense)            (None, 10)                5130      \n",
            "                                                                 \n",
            " activation_5 (Activation)   (None, 10)                0         \n",
            "                                                                 \n",
            "=================================================================\n",
            "Total params: 103,978\n",
            "Trainable params: 103,978\n",
            "Non-trainable params: 0\n",
            "_________________________________________________________________\n"
          ]
        },
        {
          "output_type": "stream",
          "name": "stderr",
          "text": [
            "<ipython-input-59-38cb5ea25f41>:8: UserWarning: `Model.fit_generator` is deprecated and will be removed in a future version. Please use `Model.fit`, which supports generators.\n",
            "  history2 = model2.fit_generator(it_train, epochs = epochs, shuffle = True,validation_data=(x_test, y_test), verbose=0)\n"
          ]
        }
      ],
      "source": [
        "model2.compile(optimizer = optimizer,\n",
        "              loss = loss,\n",
        "              metrics = 'accuracy')\n",
        "model2.summary()\n",
        "\n",
        "## DATA AUGMENTATION MODEL \n",
        "\n",
        "history2 = model2.fit_generator(it_train, epochs = epochs, shuffle = True,validation_data=(x_test, y_test), verbose=0)\n",
        "## Loss function (categorcial crossentropy instead of mse)\n",
        "loss = 'categorical_crossentropy'"
      ]
    },
    {
      "cell_type": "code",
      "execution_count": 57,
      "metadata": {
        "id": "dIek4YyaT5am"
      },
      "outputs": [],
      "source": [
        "#Training Model 2\n",
        "\n",
        "## Optimizer as RMSprop better than stochactic gradient descent (SGD)\n",
        "optimizer = tf.keras.optimizers.legacy.RMSprop(learning_rate=0.0001)\n",
        "                                        #decay = 1e-6)\n",
        "\n",
        "## DATA AUGMENTATION STEPS (we used shift of image as well as flipping (horizontally)) \n",
        "#the issue is that we run the model as well as the image manipulation at the same time, thus takes long and is error phrone\n",
        "#needs to be corrected for bigger dataset of final project\n",
        "datagen = ImageDataGenerator(height_shift_range=0.1, horizontal_flip=True)\n",
        "# prepare iterator\n",
        "it_train = datagen.flow(x_train, y_train)\n"
      ]
    },
    {
      "cell_type": "code",
      "execution_count": 97,
      "metadata": {
        "colab": {
          "base_uri": "https://localhost:8080/",
          "height": 336
        },
        "id": "FDMeqNCL_4q7",
        "outputId": "d35df6fd-b500-452c-937f-1e1d0bb1037f"
      },
      "outputs": [
        {
          "output_type": "display_data",
          "data": {
            "text/plain": [
              "<Figure size 720x360 with 2 Axes>"
            ],
            "image/png": "[encoded data removed]"
          },
          "metadata": {
            "needs_background": "light"
          }
        }
      ],
      "source": [
        "# Training and validation curves for evaluation of DATA AUGMENTATION MODEL \n",
        "\n",
        "fig, axs = plt.subplots(1, 2, figsize=(10,5))\n",
        "\n",
        "axs[0].set_title('Model Loss')\n",
        "axs[0].plot(history2.epoch, history2.history['loss'])\n",
        "axs[0].plot(history2.epoch, history2.history['val_loss'])\n",
        "axs[0].legend(('training loss', 'validation loss'), loc='upper right')\n",
        "\n",
        "axs[1].set_title('Model Accuracy')\n",
        "axs[1].plot(history2.epoch, history2.history['accuracy'])\n",
        "axs[1].plot(history2.epoch, history2.history['val_accuracy'])\n",
        "axs[1].legend(('training accuracy', 'validation accuracy'), loc='lower right')\n",
        "plt.show()"
      ]
    },
    {
      "cell_type": "code",
      "source": [
        "# Confusion matrix\n",
        "\n",
        "# Convert predictions classes to one hot vectors \n",
        "y_pred_classes = np.argmax(model2.predict(x_test), axis=1) \n",
        "# Convert validation observations to one hot vectors\n",
        "y_true = np.argmax(y_test, axis=1)\n",
        "# Errors are difference between predicted labels and true labels\n",
        "errors = (y_pred_classes - y_true != 0)\n",
        "\n",
        "y_pred_classes_errors = y_pred_classes[errors]\n",
        "y_pred_errors = model2.predict(x_test)[errors]\n",
        "y_true_errors = y_true[errors]\n",
        "x_test_errors = x_test[errors]\n",
        "\n",
        "plt.rcParams['figure.figsize'] = [10,7]\n",
        "\n",
        "labels = ['airplane', 'automobile', 'bird', 'cat', 'deer', 'dog', 'frog', 'horse', 'ship', 'truck']\n",
        "\n",
        "def plot_confusion_matrix(cm, classes,\n",
        "                          normalize=False,\n",
        "                          title='Confusion matrix',\n",
        "                          cmap=plt.cm.Blues):\n",
        "\n",
        "  if normalize:\n",
        "      cm = cm.astype('float') / cm.sum(axis=1)[:, np.newaxis]\n",
        "      print(\"Normalized confusion matrix\")\n",
        "  else:\n",
        "      print('Confusion matrix, without normalization')\n",
        "\n",
        "  print(cm)\n",
        "\n",
        "  plt.imshow(cm, interpolation='nearest', cmap=cmap)\n",
        "  plt.title(title)\n",
        "  plt.colorbar()\n",
        "  tick_marks = np.arange(len(classes))\n",
        "  plt.xticks(tick_marks, classes, rotation=45)\n",
        "  plt.yticks(tick_marks, classes, rotation=45)\n",
        "\n",
        "  fmt = '.2f' if normalize else 'd'\n",
        "  thresh = cm.max() / 2.\n",
        "  for i, j in itertools.product(range(cm.shape[0]), range(cm.shape[1])):\n",
        "      plt.text(j, i, format(cm[i, j], fmt),\n",
        "               horizontalalignment=\"center\",\n",
        "               color=\"white\" if cm[i, j] > thresh else \"black\")\n",
        "\n",
        "  plt.tight_layout()\n",
        "  plt.ylabel(['truck', 'ship' , 'horse' , 'frog' , 'dog' , 'deer' , 'cat' , 'bird' , 'automobile' , 'airplane'])\n",
        "  plt.xlabel(labels)\n",
        "  plt.show()\n",
        "\n",
        "\n",
        "#p_test = model2.predict(x_test).argmax(axis=1)\n",
        "#p_test = np.argmax(y_pred_classes)\n",
        "cm = confusion_matrix(y_true, y_pred_classes)\n",
        "plot_confusion_matrix(cm, list(range(10)))"
      ],
      "metadata": {
        "id": "qPNjtk41g0oM"
      },
      "execution_count": null,
      "outputs": []
    }
  ],
  "metadata": {
    "colab": {
      "provenance": [],
      "include_colab_link": true
    },
    "gpuClass": "premium",
    "kernelspec": {
      "display_name": "Python 3",
      "name": "python3"
    },
    "language_info": {
      "name": "python"
    }
  },
  "nbformat": 4,
  "nbformat_minor": 0
}
